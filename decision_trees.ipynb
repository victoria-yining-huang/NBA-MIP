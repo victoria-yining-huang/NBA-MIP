{
 "cells": [
  {
   "cell_type": "code",
   "execution_count": 10,
   "metadata": {},
   "outputs": [],
   "source": [
    "import pandas as pd \n",
    "import numpy as np \n",
    "\n",
    "from sklearn import tree\n",
    "from sklearn.tree import DecisionTreeClassifier, export_graphviz\n",
    "from sklearn.model_selection import KFold\n",
    "from sklearn import metrics\n",
    "from sklearn import datasets\n",
    "from sklearn.metrics import accuracy_score\n",
    "\n",
    "from matplotlib import pyplot as plt\n",
    "import seaborn as sns\n",
    "\n",
    "# import graphviz\n",
    "import pydotplus\n",
    "import io\n",
    "from scipy import misc\n",
    "\n",
    "%matplotlib inline"
   ]
  },
  {
   "cell_type": "code",
   "execution_count": 17,
   "metadata": {},
   "outputs": [],
   "source": [
    "# Import Feature Set\n",
    "%store -r master\n",
    "%store -r feature_set_1\n",
    "%store -r feature_set_2\n",
    "%store -r feature_set_3"
   ]
  },
  {
   "cell_type": "markdown",
   "metadata": {},
   "source": [
    "## Feature Set 1"
   ]
  },
  {
   "cell_type": "code",
   "execution_count": 12,
   "metadata": {},
   "outputs": [],
   "source": [
    "# Set X as features data (remove class variable and player name)\n",
    "feature_set_1 = feature_set_1.dropna()\n",
    "X = feature_set_1.drop('MIP',axis=1).drop('Player', axis=1)"
   ]
  },
  {
   "cell_type": "code",
   "execution_count": 13,
   "metadata": {},
   "outputs": [],
   "source": [
    "#Set Y = target class\n",
    "Y = feature_set_1.MIP"
   ]
  },
  {
   "cell_type": "code",
   "execution_count": 15,
   "metadata": {},
   "outputs": [],
   "source": [
    "#empty dataframe to store the class predictions\n",
    "class_predictions = pd.DataFrame()\n",
    "class_predictions['Player'] = master['Player']\n",
    "class_predictions['Season'] = master['season']\n",
    "class_predictions['Model Results'] = \"Nothing\""
   ]
  },
  {
   "cell_type": "code",
   "execution_count": null,
   "metadata": {},
   "outputs": [],
   "source": [
    "#Initialize the model\n",
    "model = DecisionTreeClassifier(min_samples_split=100)\n",
    "\n",
    "# Perform K-fold cross validation to make training and testing datasets, k = 10\n",
    "kf = KFold(n_splits=10)\n",
    "\n",
    "for training, testing in kf.split(X):\n",
    "    print(\"Train Index: \", training, \"\\n\")\n",
    "    print(\"Test Index: \", testing)\n",
    "    min_tr = min(training)\n",
    "    max_tr = max(training)\n",
    "    min_test = min(testing)\n",
    "    max_test = max(testing)\n",
    "    X_training_data = X.iloc[min_tr:(max_tr+1)]\n",
    "    X_testing_data = X.iloc[min_test:(max_test+1)]\n",
    "    Y_training_data = Y.iloc[min_tr:(max_tr+1)]\n",
    "    Y_testing_data = Y.iloc[min_test:(max_test+1)]\n",
    "    \n",
    "    #Fit model\n",
    "    \n",
    "    \n",
    "    \n",
    "    log_reg_model.fit(X_training_data, Y_training_data)\n",
    "    log_reg_model.score(X_training_data, Y_training_data)\n",
    "    class_predict = log_reg_model.predict(X_testing_data)\n",
    "    acc_score = accuracy_score(Y_testing_data, class_predict)\n",
    "    print(\"Class Predict: \", class_predict)\n",
    "    print(\"Accuracy Score: \", acc_score)\n",
    "    \n",
    "    #Put predictions in class predictions dataframe\n",
    "    k = 0\n",
    "    for j in testing:\n",
    "        class_predictions.iloc[j, 2] = class_predict[k]\n",
    "        k += 1\n",
    "    print(\"--------------------------iteration ends----------------------\")"
   ]
  }
 ],
 "metadata": {
  "kernelspec": {
   "display_name": "Python 3",
   "language": "python",
   "name": "python3"
  },
  "language_info": {
   "codemirror_mode": {
    "name": "ipython",
    "version": 3
   },
   "file_extension": ".py",
   "mimetype": "text/x-python",
   "name": "python",
   "nbconvert_exporter": "python",
   "pygments_lexer": "ipython3",
   "version": "3.8.0"
  }
 },
 "nbformat": 4,
 "nbformat_minor": 2
}
