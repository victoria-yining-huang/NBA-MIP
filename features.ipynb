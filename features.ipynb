{
 "cells": [
  {
   "cell_type": "code",
   "execution_count": 1389,
   "metadata": {},
   "outputs": [],
   "source": [
    "import numpy as np\n",
    "import pandas as pd\n",
    "\n",
    "import matplotlib.pyplot as plt\n",
    "import seaborn as sns\n",
    "%matplotlib inline\n",
    "\n",
    "from sklearn.linear_model import LogisticRegression\n",
    "from sklearn.model_selection import KFold\n",
    "from sklearn import metrics\n",
    "from sklearn import datasets\n",
    "from sklearn.metrics import accuracy_score\n",
    "\n",
    "import statsmodels.api as sm\n",
    "from statsmodels.stats.outliers_influence import variance_inflation_factor"
   ]
  },
  {
   "cell_type": "code",
   "execution_count": 1347,
   "metadata": {},
   "outputs": [],
   "source": [
    "df19 = pd.read_csv(\"player_stats_2018_2019.csv\")"
   ]
  },
  {
   "cell_type": "code",
   "execution_count": 1348,
   "metadata": {},
   "outputs": [],
   "source": [
    "df19[\"season\"] = 19"
   ]
  },
  {
   "cell_type": "code",
   "execution_count": 1349,
   "metadata": {},
   "outputs": [],
   "source": [
    "df18 = pd.read_csv(\"player_stats_2017_2018.csv\")"
   ]
  },
  {
   "cell_type": "code",
   "execution_count": 1350,
   "metadata": {},
   "outputs": [],
   "source": [
    "df18[\"season\"] = 18"
   ]
  },
  {
   "cell_type": "code",
   "execution_count": 1351,
   "metadata": {},
   "outputs": [],
   "source": [
    "df17 = pd.read_csv(\"player_stats_2016_2017.csv\")"
   ]
  },
  {
   "cell_type": "code",
   "execution_count": 1352,
   "metadata": {},
   "outputs": [],
   "source": [
    "df17[\"season\"] = 17"
   ]
  },
  {
   "cell_type": "code",
   "execution_count": 1353,
   "metadata": {},
   "outputs": [],
   "source": [
    "df16 = pd.read_csv(\"player_stats_2015_2016.csv\")"
   ]
  },
  {
   "cell_type": "code",
   "execution_count": 1354,
   "metadata": {},
   "outputs": [],
   "source": [
    "df16[\"season\"] = 16"
   ]
  },
  {
   "cell_type": "code",
   "execution_count": 1355,
   "metadata": {},
   "outputs": [],
   "source": [
    "df15 = pd.read_csv(\"player_stats_2014_2015.csv\")"
   ]
  },
  {
   "cell_type": "code",
   "execution_count": 1356,
   "metadata": {},
   "outputs": [],
   "source": [
    "df15[\"season\"] = 15"
   ]
  },
  {
   "cell_type": "code",
   "execution_count": 1357,
   "metadata": {},
   "outputs": [],
   "source": [
    "df14 = pd.read_csv(\"player_stats_2013_2014.csv\")"
   ]
  },
  {
   "cell_type": "code",
   "execution_count": 1358,
   "metadata": {},
   "outputs": [],
   "source": [
    "df14[\"season\"] = 14"
   ]
  },
  {
   "cell_type": "code",
   "execution_count": 1359,
   "metadata": {},
   "outputs": [],
   "source": [
    "df13 = pd.read_csv(\"player_stats_2012_2013.csv\")"
   ]
  },
  {
   "cell_type": "code",
   "execution_count": 1360,
   "metadata": {},
   "outputs": [],
   "source": [
    "df13[\"season\"] = 13"
   ]
  },
  {
   "cell_type": "code",
   "execution_count": 1361,
   "metadata": {},
   "outputs": [],
   "source": [
    "df12 = pd.read_csv(\"player_stats_2011_2012.csv\")"
   ]
  },
  {
   "cell_type": "code",
   "execution_count": 1362,
   "metadata": {},
   "outputs": [],
   "source": [
    "df12[\"season\"] = 12"
   ]
  },
  {
   "cell_type": "code",
   "execution_count": 1363,
   "metadata": {},
   "outputs": [],
   "source": [
    "df11 = pd.read_csv(\"player_stats_2010_2011.csv\")"
   ]
  },
  {
   "cell_type": "code",
   "execution_count": 1364,
   "metadata": {},
   "outputs": [],
   "source": [
    "df11[\"season\"] = 11"
   ]
  },
  {
   "cell_type": "code",
   "execution_count": 1365,
   "metadata": {},
   "outputs": [],
   "source": [
    "df10 = pd.read_csv(\"player_stats_2009_2010.csv\")"
   ]
  },
  {
   "cell_type": "code",
   "execution_count": 1366,
   "metadata": {},
   "outputs": [],
   "source": [
    "df10[\"season\"] = 10"
   ]
  },
  {
   "cell_type": "code",
   "execution_count": 1367,
   "metadata": {},
   "outputs": [],
   "source": [
    "df9 = pd.read_csv(\"player_stats_2008_2009.csv\")"
   ]
  },
  {
   "cell_type": "code",
   "execution_count": 1368,
   "metadata": {},
   "outputs": [],
   "source": [
    "df9[\"season\"] = 9"
   ]
  },
  {
   "cell_type": "code",
   "execution_count": 1369,
   "metadata": {},
   "outputs": [],
   "source": [
    "df8 = pd.read_csv(\"player_stats_2007_2008.csv\")"
   ]
  },
  {
   "cell_type": "code",
   "execution_count": 1370,
   "metadata": {},
   "outputs": [],
   "source": [
    "df8[\"season\"] = 8"
   ]
  },
  {
   "cell_type": "code",
   "execution_count": 1371,
   "metadata": {},
   "outputs": [],
   "source": [
    "df7 = pd.read_csv(\"player_stats_2006_2007.csv\")"
   ]
  },
  {
   "cell_type": "code",
   "execution_count": 1372,
   "metadata": {},
   "outputs": [],
   "source": [
    "df7[\"season\"] = 7"
   ]
  },
  {
   "cell_type": "code",
   "execution_count": 1373,
   "metadata": {},
   "outputs": [],
   "source": [
    "df6 = pd.read_csv(\"player_stats_2005_2006.csv\")"
   ]
  },
  {
   "cell_type": "code",
   "execution_count": 1374,
   "metadata": {},
   "outputs": [],
   "source": [
    "df6[\"season\"] = 6"
   ]
  },
  {
   "cell_type": "code",
   "execution_count": 1375,
   "metadata": {},
   "outputs": [],
   "source": [
    "master = pd.DataFrame()"
   ]
  },
  {
   "cell_type": "code",
   "execution_count": 1376,
   "metadata": {},
   "outputs": [],
   "source": [
    "master = master.append([df6,df7,df8,df9,df10,df11,df12,df13,df14,df15,df16,df17,df18,df19], ignore_index=True, sort=False)"
   ]
  },
  {
   "cell_type": "code",
   "execution_count": 1377,
   "metadata": {},
   "outputs": [
    {
     "data": {
      "text/plain": [
       "(5822, 53)"
      ]
     },
     "execution_count": 1377,
     "metadata": {},
     "output_type": "execute_result"
    }
   ],
   "source": [
    "master.shape"
   ]
  },
  {
   "cell_type": "code",
   "execution_count": 1378,
   "metadata": {},
   "outputs": [],
   "source": [
    "master = master.sort_values(by=['season','Rk'], ascending=[0,1])"
   ]
  },
  {
   "cell_type": "code",
   "execution_count": 1379,
   "metadata": {},
   "outputs": [
    {
     "name": "stderr",
     "output_type": "stream",
     "text": [
      "//anaconda3/lib/python3.7/site-packages/ipykernel_launcher.py:11: UserWarning: Boolean Series key will be reindexed to match DataFrame index.\n",
      "  # This is added back by InteractiveShellApp.init_path()\n",
      "//anaconda3/lib/python3.7/site-packages/ipykernel_launcher.py:16: UserWarning: Boolean Series key will be reindexed to match DataFrame index.\n",
      "  app.launch_new_instance()\n",
      "//anaconda3/lib/python3.7/site-packages/ipykernel_launcher.py:24: UserWarning: Boolean Series key will be reindexed to match DataFrame index.\n",
      "//anaconda3/lib/python3.7/site-packages/ipykernel_launcher.py:29: UserWarning: Boolean Series key will be reindexed to match DataFrame index.\n",
      "//anaconda3/lib/python3.7/site-packages/ipykernel_launcher.py:34: UserWarning: Boolean Series key will be reindexed to match DataFrame index.\n",
      "//anaconda3/lib/python3.7/site-packages/ipykernel_launcher.py:39: UserWarning: Boolean Series key will be reindexed to match DataFrame index.\n",
      "//anaconda3/lib/python3.7/site-packages/ipykernel_launcher.py:44: UserWarning: Boolean Series key will be reindexed to match DataFrame index.\n"
     ]
    }
   ],
   "source": [
    "#CALCULATE ADDITIONAL DATA POINTS FOR FEATURES\n",
    "for index, row in master.iterrows():\n",
    "    current_player = row[\"Player\"]\n",
    "    current_season = row[\"season\"]\n",
    "    prev_season = current_season - 1\n",
    "    if(current_player in master[master[\"season\"]==prev_season][\"Player\"].values):\n",
    "        \n",
    "        #FEATURE 1: OPPORTUNITY - DATA POINTS\n",
    "        \n",
    "        # DELTA USG\n",
    "        prev_usg = master[master[\"season\"]==prev_season][master[\"Player\"]==current_player][\"USG%\"]\n",
    "        current_usg = row[\"USG%\"]                                                 \n",
    "        delta_usg = float(current_usg) - float(prev_usg)\n",
    "        master.loc[index,\"Delta USG%\"] = delta_usg\n",
    "        # DELTA AST\n",
    "        prev_ast = master[master[\"season\"]==prev_season][master[\"Player\"]==current_player][\"AST%\"]\n",
    "        current_ast = row[\"AST%\"] \n",
    "        delta_ast = float(current_ast) - float(prev_ast)\n",
    "        master.loc[index,\"Delta AST%\"] = delta_ast\n",
    "        \n",
    "        #FEATURE 2: IMPORTANT DELTAS - DATA POINTS\n",
    "        \n",
    "        #DELTA POINTS\n",
    "        prev_pts = master[master[\"season\"]==prev_season][master[\"Player\"]==current_player][\"PTS\"]\n",
    "        current_pts = row[\"PTS\"] \n",
    "        delta_pts = float(current_pts) - float(prev_pts)\n",
    "        master.loc[index,\"Delta PTS\"] = delta_pts\n",
    "        #DELTA TOTAL REBOUNDS\n",
    "        prev_trb = master[master[\"season\"]==prev_season][master[\"Player\"]==current_player][\"TRB\"]\n",
    "        current_trb = row[\"TRB\"] \n",
    "        delta_trb = float(current_trb) - float(prev_trb)\n",
    "        master.loc[index,\"Delta TRB\"] = delta_trb\n",
    "        #DELTA ASSISTS\n",
    "        prev_asts = master[master[\"season\"]==prev_season][master[\"Player\"]==current_player][\"AST\"]\n",
    "        current_asts = row[\"AST\"] \n",
    "        delta_asts = float(current_asts) - float(prev_asts)\n",
    "        master.loc[index,\"Delta AST\"] = delta_asts\n",
    "        #DELTA STL\n",
    "        prev_stl = master[master[\"season\"]==prev_season][master[\"Player\"]==current_player][\"STL\"]\n",
    "        current_stl = row[\"STL\"] \n",
    "        delta_stl = float(current_stl) - float(prev_stl)\n",
    "        master.loc[index,\"Delta STL\"] = delta_stl\n",
    "        #DELTA STL\n",
    "        prev_blk = master[master[\"season\"]==prev_season][master[\"Player\"]==current_player][\"BLK\"]\n",
    "        current_blk = row[\"BLK\"] \n",
    "        delta_blk = float(current_blk) - float(prev_blk)\n",
    "        master.loc[index,\"Delta BLK\"] = delta_blk\n",
    "        "
   ]
  },
  {
   "cell_type": "code",
   "execution_count": 1380,
   "metadata": {},
   "outputs": [],
   "source": [
    "# Feature 1 : Opportunity\n",
    "master[\"Opportunity\"] = master[\"Delta USG%\"] + (master[\"Delta AST%\"]*-1)"
   ]
  },
  {
   "cell_type": "code",
   "execution_count": 1381,
   "metadata": {},
   "outputs": [],
   "source": [
    "# Feature 2: Important Deltas\n",
    "master[\"Impt Deltas\"] = master[\"Delta PTS\"] + master[\"Delta TRB\"] + master[\"Delta AST\"]"
   ]
  },
  {
   "cell_type": "code",
   "execution_count": 1382,
   "metadata": {},
   "outputs": [],
   "source": [
    "# Feature 3: Defensive Ability\n",
    "master[\"Defensive Ability\"] = ( master[\"STL\"] + master[\"BLK\"] ) / master[\"PF\"]"
   ]
  },
  {
   "cell_type": "code",
   "execution_count": 1383,
   "metadata": {},
   "outputs": [],
   "source": [
    "# Feature 4: SOMETHING\n",
    "master[\"Total Mins\"] = master[\"MP\"] * master[\"G\"]"
   ]
  },
  {
   "cell_type": "code",
   "execution_count": 1384,
   "metadata": {},
   "outputs": [
    {
     "name": "stdout",
     "output_type": "stream",
     "text": [
      "(5822, 64)\n",
      "(4772, 64)\n",
      "dropped this many < 1000: 733rows\n"
     ]
    }
   ],
   "source": [
    "# DATA CLEANING\n",
    "\n",
    "# Remove any players with current season less than 1000 mins and previous season less than 250 mins\n",
    "dropped = 0\n",
    "print(master.shape)\n",
    "master = master[master[\"Total Mins\"] > 250]\n",
    "print(master.shape)\n",
    "for index, row in master.iterrows():\n",
    "    current_player = row[\"Player\"]\n",
    "    current_season = row[\"season\"]\n",
    "    prev_season = current_season - 1\n",
    "    if(current_player in master[master[\"season\"]==prev_season][\"Player\"].values):\n",
    "        if (row[\"Total Mins\"] < 1000):\n",
    "            master.drop(index, inplace=True)\n",
    "            dropped += 1\n",
    "\n",
    "print(\"dropped this many < 1000: \" + str(dropped) + \"rows\")\n"
   ]
  },
  {
   "cell_type": "code",
   "execution_count": 1385,
   "metadata": {},
   "outputs": [
    {
     "data": {
      "text/plain": [
       "(4039, 64)"
      ]
     },
     "execution_count": 1385,
     "metadata": {},
     "output_type": "execute_result"
    }
   ],
   "source": [
    "master.shape"
   ]
  },
  {
   "cell_type": "code",
   "execution_count": 1392,
   "metadata": {},
   "outputs": [],
   "source": [
    "# Define feature set 1\n",
    "feature_set_1 = pd.DataFrame\n",
    "feature_set_1 = master[['Player','Age','Total Mins','PTS','TRB','AST','STL','BLK','TS%','WS','Opportunity','Defensive Ability','MIP']]"
   ]
  },
  {
   "cell_type": "code",
   "execution_count": 1393,
   "metadata": {},
   "outputs": [],
   "source": [
    "# Define feature set 2\n",
    "feature_set_2 = pd.DataFrame\n",
    "feature_set_2 = master[['Player','Age','Total Mins','Defensive Ability','FG%','3P%','FT%','WS','MIP']]"
   ]
  },
  {
   "cell_type": "code",
   "execution_count": 1394,
   "metadata": {},
   "outputs": [],
   "source": [
    "# Define feature set 3\n",
    "feature_set_3 = pd.DataFrame\n",
    "feature_set_3 = master[['Player','Age','Total Mins','Delta PTS','Delta TRB','Delta AST','Delta STL', 'Delta BLK','MIP']]\n"
   ]
  },
  {
   "cell_type": "code",
   "execution_count": 1395,
   "metadata": {},
   "outputs": [
    {
     "name": "stdout",
     "output_type": "stream",
     "text": [
      "Stored 'master' (DataFrame)\n"
     ]
    }
   ],
   "source": [
    "%store master"
   ]
  },
  {
   "cell_type": "code",
   "execution_count": 1396,
   "metadata": {},
   "outputs": [
    {
     "name": "stdout",
     "output_type": "stream",
     "text": [
      "Stored 'feature_set_1' (DataFrame)\n",
      "Stored 'feature_set_2' (DataFrame)\n",
      "Stored 'feature_set_3' (DataFrame)\n"
     ]
    }
   ],
   "source": [
    "%store feature_set_1\n",
    "%store feature_set_2\n",
    "%store feature_set_3"
   ]
  },
  {
   "cell_type": "code",
   "execution_count": null,
   "metadata": {},
   "outputs": [],
   "source": []
  },
  {
   "cell_type": "code",
   "execution_count": null,
   "metadata": {},
   "outputs": [],
   "source": []
  }
 ],
 "metadata": {
  "kernelspec": {
   "display_name": "Python 3",
   "language": "python",
   "name": "python3"
  },
  "language_info": {
   "codemirror_mode": {
    "name": "ipython",
    "version": 3
   },
   "file_extension": ".py",
   "mimetype": "text/x-python",
   "name": "python",
   "nbconvert_exporter": "python",
   "pygments_lexer": "ipython3",
   "version": "3.7.3"
  }
 },
 "nbformat": 4,
 "nbformat_minor": 2
}
