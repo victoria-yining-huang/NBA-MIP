{
 "cells": [
  {
   "cell_type": "code",
   "execution_count": 174,
   "metadata": {},
   "outputs": [],
   "source": [
    "import seaborn as sns\n",
    "import pandas as pd\n",
    "import numpy as np\n",
    "from sklearn.cluster import KMeans\n",
    "from pylab import rcParams\n",
    "from mpl_toolkits.mplot3d import Axes3D\n",
    "import matplotlib.pyplot as plt\n",
    "import plotly.express as px\n",
    "%matplotlib inline"
   ]
  },
  {
   "cell_type": "code",
   "execution_count": 175,
   "metadata": {},
   "outputs": [],
   "source": [
    "s1819 = pd.read_csv(\"player_stats_2018_2019.csv\")"
   ]
  },
  {
   "cell_type": "code",
   "execution_count": 176,
   "metadata": {},
   "outputs": [],
   "source": [
    "s1718 = pd.read_csv(\"player_stats_2017_2018.csv\")"
   ]
  },
  {
   "cell_type": "code",
   "execution_count": 177,
   "metadata": {},
   "outputs": [],
   "source": [
    "%store -r clustering_data"
   ]
  },
  {
   "cell_type": "code",
   "execution_count": 178,
   "metadata": {},
   "outputs": [
    {
     "data": {
      "text/html": [
       "<div>\n",
       "<style scoped>\n",
       "    .dataframe tbody tr th:only-of-type {\n",
       "        vertical-align: middle;\n",
       "    }\n",
       "\n",
       "    .dataframe tbody tr th {\n",
       "        vertical-align: top;\n",
       "    }\n",
       "\n",
       "    .dataframe thead th {\n",
       "        text-align: right;\n",
       "    }\n",
       "</style>\n",
       "<table border=\"1\" class=\"dataframe\">\n",
       "  <thead>\n",
       "    <tr style=\"text-align: right;\">\n",
       "      <th></th>\n",
       "      <th>Rk</th>\n",
       "      <th>Player</th>\n",
       "      <th>Pos</th>\n",
       "      <th>Age</th>\n",
       "      <th>Tm</th>\n",
       "      <th>G</th>\n",
       "      <th>GS</th>\n",
       "      <th>MP</th>\n",
       "      <th>FG</th>\n",
       "      <th>FGA</th>\n",
       "      <th>...</th>\n",
       "      <th>Delta AST%</th>\n",
       "      <th>Delta PTS</th>\n",
       "      <th>Delta TRB</th>\n",
       "      <th>Delta AST</th>\n",
       "      <th>Delta STL</th>\n",
       "      <th>Delta BLK</th>\n",
       "      <th>Opportunity</th>\n",
       "      <th>Impt Deltas</th>\n",
       "      <th>Defensive Ability</th>\n",
       "      <th>Total Mins</th>\n",
       "    </tr>\n",
       "  </thead>\n",
       "  <tbody>\n",
       "    <tr>\n",
       "      <th>5380</th>\n",
       "      <td>3</td>\n",
       "      <td>Jaylen Adams\\adamsja01</td>\n",
       "      <td>PG</td>\n",
       "      <td>22</td>\n",
       "      <td>ATL</td>\n",
       "      <td>34</td>\n",
       "      <td>1</td>\n",
       "      <td>12.6</td>\n",
       "      <td>1.1</td>\n",
       "      <td>3.2</td>\n",
       "      <td>...</td>\n",
       "      <td>NaN</td>\n",
       "      <td>NaN</td>\n",
       "      <td>NaN</td>\n",
       "      <td>NaN</td>\n",
       "      <td>NaN</td>\n",
       "      <td>NaN</td>\n",
       "      <td>NaN</td>\n",
       "      <td>NaN</td>\n",
       "      <td>0.384615</td>\n",
       "      <td>428.4</td>\n",
       "    </tr>\n",
       "    <tr>\n",
       "      <th>5381</th>\n",
       "      <td>4</td>\n",
       "      <td>Steven Adams\\adamsst01</td>\n",
       "      <td>C</td>\n",
       "      <td>25</td>\n",
       "      <td>OKC</td>\n",
       "      <td>80</td>\n",
       "      <td>80</td>\n",
       "      <td>33.4</td>\n",
       "      <td>6.0</td>\n",
       "      <td>10.1</td>\n",
       "      <td>...</td>\n",
       "      <td>1.1</td>\n",
       "      <td>0.0</td>\n",
       "      <td>0.5</td>\n",
       "      <td>0.4</td>\n",
       "      <td>0.3</td>\n",
       "      <td>0.0</td>\n",
       "      <td>-1.4</td>\n",
       "      <td>0.9</td>\n",
       "      <td>0.961538</td>\n",
       "      <td>2672.0</td>\n",
       "    </tr>\n",
       "    <tr>\n",
       "      <th>5382</th>\n",
       "      <td>5</td>\n",
       "      <td>Bam Adebayo\\adebaba01</td>\n",
       "      <td>C</td>\n",
       "      <td>21</td>\n",
       "      <td>MIA</td>\n",
       "      <td>82</td>\n",
       "      <td>28</td>\n",
       "      <td>23.3</td>\n",
       "      <td>3.4</td>\n",
       "      <td>5.9</td>\n",
       "      <td>...</td>\n",
       "      <td>3.2</td>\n",
       "      <td>2.0</td>\n",
       "      <td>1.8</td>\n",
       "      <td>0.7</td>\n",
       "      <td>0.4</td>\n",
       "      <td>0.2</td>\n",
       "      <td>-3.3</td>\n",
       "      <td>4.5</td>\n",
       "      <td>0.680000</td>\n",
       "      <td>1910.6</td>\n",
       "    </tr>\n",
       "    <tr>\n",
       "      <th>5385</th>\n",
       "      <td>8</td>\n",
       "      <td>LaMarcus Aldridge\\aldrila01</td>\n",
       "      <td>C</td>\n",
       "      <td>33</td>\n",
       "      <td>SAS</td>\n",
       "      <td>81</td>\n",
       "      <td>81</td>\n",
       "      <td>33.2</td>\n",
       "      <td>8.4</td>\n",
       "      <td>16.3</td>\n",
       "      <td>...</td>\n",
       "      <td>0.3</td>\n",
       "      <td>-1.8</td>\n",
       "      <td>0.7</td>\n",
       "      <td>0.4</td>\n",
       "      <td>-0.1</td>\n",
       "      <td>0.1</td>\n",
       "      <td>-2.5</td>\n",
       "      <td>-0.7</td>\n",
       "      <td>0.818182</td>\n",
       "      <td>2689.2</td>\n",
       "    </tr>\n",
       "    <tr>\n",
       "      <th>5387</th>\n",
       "      <td>10</td>\n",
       "      <td>Grayson Allen\\allengr01</td>\n",
       "      <td>SG</td>\n",
       "      <td>23</td>\n",
       "      <td>UTA</td>\n",
       "      <td>38</td>\n",
       "      <td>2</td>\n",
       "      <td>10.9</td>\n",
       "      <td>1.8</td>\n",
       "      <td>4.7</td>\n",
       "      <td>...</td>\n",
       "      <td>NaN</td>\n",
       "      <td>NaN</td>\n",
       "      <td>NaN</td>\n",
       "      <td>NaN</td>\n",
       "      <td>NaN</td>\n",
       "      <td>NaN</td>\n",
       "      <td>NaN</td>\n",
       "      <td>NaN</td>\n",
       "      <td>0.333333</td>\n",
       "      <td>414.2</td>\n",
       "    </tr>\n",
       "  </tbody>\n",
       "</table>\n",
       "<p>5 rows × 64 columns</p>\n",
       "</div>"
      ],
      "text/plain": [
       "      Rk                       Player Pos  Age   Tm   G  GS    MP   FG   FGA  \\\n",
       "5380   3       Jaylen Adams\\adamsja01  PG   22  ATL  34   1  12.6  1.1   3.2   \n",
       "5381   4       Steven Adams\\adamsst01   C   25  OKC  80  80  33.4  6.0  10.1   \n",
       "5382   5        Bam Adebayo\\adebaba01   C   21  MIA  82  28  23.3  3.4   5.9   \n",
       "5385   8  LaMarcus Aldridge\\aldrila01   C   33  SAS  81  81  33.2  8.4  16.3   \n",
       "5387  10      Grayson Allen\\allengr01  SG   23  UTA  38   2  10.9  1.8   4.7   \n",
       "\n",
       "      ...  Delta AST%  Delta PTS  Delta TRB  Delta AST  Delta STL  Delta BLK  \\\n",
       "5380  ...         NaN        NaN        NaN        NaN        NaN        NaN   \n",
       "5381  ...         1.1        0.0        0.5        0.4        0.3        0.0   \n",
       "5382  ...         3.2        2.0        1.8        0.7        0.4        0.2   \n",
       "5385  ...         0.3       -1.8        0.7        0.4       -0.1        0.1   \n",
       "5387  ...         NaN        NaN        NaN        NaN        NaN        NaN   \n",
       "\n",
       "      Opportunity  Impt Deltas  Defensive Ability  Total Mins  \n",
       "5380          NaN          NaN           0.384615       428.4  \n",
       "5381         -1.4          0.9           0.961538      2672.0  \n",
       "5382         -3.3          4.5           0.680000      1910.6  \n",
       "5385         -2.5         -0.7           0.818182      2689.2  \n",
       "5387          NaN          NaN           0.333333       414.2  \n",
       "\n",
       "[5 rows x 64 columns]"
      ]
     },
     "execution_count": 178,
     "metadata": {},
     "output_type": "execute_result"
    }
   ],
   "source": [
    "clustering_data.head()"
   ]
  },
  {
   "cell_type": "markdown",
   "metadata": {},
   "source": [
    "# Subset 1: True Shooting%, Points, Rebound+Assist"
   ]
  },
  {
   "cell_type": "code",
   "execution_count": 179,
   "metadata": {},
   "outputs": [],
   "source": [
    "TS_Pts_RA = pd.DataFrame(data=[s1819[\"TS%\"],s1819[\"PTS\"],s1819[\"TRB\"]+s1819[\"AST\"]], index=['TS','PTS',\"RA\"])"
   ]
  },
  {
   "cell_type": "code",
   "execution_count": 180,
   "metadata": {},
   "outputs": [],
   "source": [
    "TS_Pts_RA = TS_Pts_RA.transpose()"
   ]
  },
  {
   "cell_type": "code",
   "execution_count": 181,
   "metadata": {},
   "outputs": [],
   "source": [
    "TS_Pts_RA = TS_Pts_RA.dropna()"
   ]
  },
  {
   "cell_type": "code",
   "execution_count": 182,
   "metadata": {},
   "outputs": [],
   "source": [
    "kmeans = KMeans(n_clusters=5)"
   ]
  },
  {
   "cell_type": "code",
   "execution_count": 183,
   "metadata": {},
   "outputs": [
    {
     "data": {
      "text/plain": [
       "KMeans(algorithm='auto', copy_x=True, init='k-means++', max_iter=300,\n",
       "       n_clusters=5, n_init=10, n_jobs=None, precompute_distances='auto',\n",
       "       random_state=None, tol=0.0001, verbose=0)"
      ]
     },
     "execution_count": 183,
     "metadata": {},
     "output_type": "execute_result"
    }
   ],
   "source": [
    "kmeans.fit(TS_Pts_RA)"
   ]
  },
  {
   "cell_type": "code",
   "execution_count": 184,
   "metadata": {},
   "outputs": [
    {
     "data": {
      "text/plain": [
       "array([[ 0.55935556, 10.96555556,  7.56222222],\n",
       "       [ 0.58060714, 24.57857143, 13.23214286],\n",
       "       [ 0.56957895, 16.93684211,  9.31403509],\n",
       "       [ 0.48038889,  2.76031746,  2.00634921],\n",
       "       [ 0.54700719,  6.42589928,  4.70431655]])"
      ]
     },
     "execution_count": 184,
     "metadata": {},
     "output_type": "execute_result"
    }
   ],
   "source": [
    "kmeans.cluster_centers_"
   ]
  },
  {
   "cell_type": "code",
   "execution_count": 185,
   "metadata": {},
   "outputs": [
    {
     "data": {
      "text/plain": [
       "array([3, 3, 3, 2, 0, 3, 3, 1, 3, 3, 0, 0, 0, 3, 0, 3, 1, 3, 0, 4, 4, 0,\n",
       "       2, 4, 2, 3, 0, 4, 0, 0, 4, 0, 4, 4, 0, 1, 0, 4, 0, 3, 0, 4, 3, 4,\n",
       "       0, 4, 4, 0, 4, 2, 4, 0, 2, 4, 4, 3, 1, 3, 4, 4, 4, 3, 3, 2, 4, 4,\n",
       "       3, 0, 3, 4, 4, 0, 0, 3, 4, 3, 0, 2, 0, 3, 4, 0, 0, 4, 0, 3, 3, 3,\n",
       "       3, 3, 4, 2, 2, 4, 0, 4, 2, 4, 4, 2, 4, 4, 4, 0, 3, 4, 1, 4, 1, 4,\n",
       "       4, 3, 0, 3, 4, 1, 3, 4, 3, 4, 2, 4, 1, 0, 3, 0, 2, 4, 0, 1, 3, 3,\n",
       "       1, 3, 3, 0, 4, 0, 4, 3, 4, 4, 4, 0, 2, 2, 3, 3, 3, 4, 2, 4, 4, 2,\n",
       "       1, 0, 4, 0, 2, 3, 2, 2, 4, 4, 4, 0, 4, 3, 0, 0, 4, 0, 1, 3, 3, 1,\n",
       "       4, 2, 4, 0, 0, 4, 4, 3, 3, 0, 4, 4, 4, 4, 3, 2, 3, 3, 4, 4, 1, 0,\n",
       "       4, 2, 4, 0, 0, 3, 2, 4, 2, 4, 4, 0, 3, 2, 1, 0, 4, 3, 4, 0, 0, 2,\n",
       "       1, 3, 4, 3, 3, 4, 1, 4, 4, 3, 4, 3, 4, 4, 4, 0, 4, 4, 0, 4, 4, 4,\n",
       "       4, 2, 2, 1, 4, 3, 3, 2, 0, 1, 4, 3, 0, 1, 3, 3, 4, 0, 0, 2, 2, 3,\n",
       "       3, 3, 4, 3, 3, 3, 4, 2, 3, 4, 3, 3, 3, 2, 4, 4, 0, 4, 4, 3, 4, 4,\n",
       "       4, 4, 3, 2, 4, 3, 0, 0, 3, 1, 3, 4, 0, 3, 0, 0, 3, 3, 2, 2, 3, 3,\n",
       "       0, 4, 4, 3, 4, 4, 4, 4, 2, 4, 4, 3, 3, 4, 4, 4, 2, 0, 0, 4, 0, 4,\n",
       "       3, 3, 2, 0, 3, 3, 0, 3, 4, 3, 0, 4, 4, 3, 4, 4, 1, 2, 3, 3, 2, 3,\n",
       "       4, 3, 3, 3, 4, 0, 2, 2, 0, 0, 1, 2, 3, 2, 0, 2, 3, 2, 2, 3, 2, 3,\n",
       "       0, 0, 4, 4, 4, 4, 3, 4, 3, 2, 0, 3, 3, 4, 4, 3, 3, 2, 0, 3, 4, 1,\n",
       "       3, 0, 4, 4, 0, 3, 3, 0, 0, 1, 2, 3, 0, 1, 3, 1, 3, 0, 3, 2, 3, 3,\n",
       "       3, 1, 0, 3, 0, 2, 3, 3, 4, 4, 2, 0, 3, 4, 4, 0, 3, 3, 0, 2, 0, 4],\n",
       "      dtype=int32)"
      ]
     },
     "execution_count": 185,
     "metadata": {},
     "output_type": "execute_result"
    }
   ],
   "source": [
    "kmeans.labels_"
   ]
  },
  {
   "cell_type": "code",
   "execution_count": 187,
   "metadata": {},
   "outputs": [
    {
     "data": {
      "image/png": "[encoded data removed]",
      "text/plain": [
       "<Figure size 1440x1440 with 1 Axes>"
      ]
     },
     "metadata": {
      "needs_background": "light"
     },
     "output_type": "display_data"
    }
   ],
   "source": [
    "rcParams['figure.figsize'] = 20,20\n",
    "fig = plt.figure()\n",
    "ax = fig.add_subplot(111, projection='3d')\n",
    "\n",
    "x = TS_Pts_RA.TS\n",
    "y = TS_Pts_RA.PTS\n",
    "z = TS_Pts_RA.RA\n",
    "\n",
    "\n",
    "\n",
    "ax.scatter(x, y, z, c=kmeans.labels_, cmap='rainbow', s=50, marker='o')\n",
    "\n",
    "ax.set_xlabel('True Shooting Percentage')\n",
    "ax.set_ylabel('Points')\n",
    "ax.set_zlabel('Rebound+Assist')\n",
    "\n",
    "plt.show()"
   ]
  },
  {
   "cell_type": "code",
   "execution_count": 188,
   "metadata": {},
   "outputs": [
    {
     "data": {
      "application/vnd.plotly.v1+json": {
       "config": {
        "plotlyServerURL": "https://plot.ly"
       },
       "data": [
        {
         "hoverlabel": {
          "namelength": 0
         },
         "hovertemplate": "TS=%{x}<br>PTS=%{y}<br>RA=%{z}<br>color=%{marker.color}",
         "legendgroup": "",
         "marker": {
          "color": [
           3,
           3,
           3,
           2,
           0,
           3,
           3,
           1,
           3,
           3,
           0,
           0,
           0,
           3,
           0,
           3,
           1,
           3,
           0,
           4,
           4,
           0,
           2,
           4,
           2,
           3,
           0,
           4,
           0,
           0,
           4,
           0,
           4,
           4,
           0,
           1,
           0,
           4,
           0,
           3,
           0,
           4,
           3,
           4,
           0,
           4,
           4,
           0,
           4,
           2,
           4,
           0,
           2,
           4,
           4,
           3,
           1,
           3,
           4,
           4,
           4,
           3,
           3,
           2,
           4,
           4,
           3,
           0,
           3,
           4,
           4,
           0,
           0,
           3,
           4,
           3,
           0,
           2,
           0,
           3,
           4,
           0,
           0,
           4,
           0,
           3,
           3,
           3,
           3,
           3,
           4,
           2,
           2,
           4,
           0,
           4,
           2,
           4,
           4,
           2,
           4,
           4,
           4,
           0,
           3,
           4,
           1,
           4,
           1,
           4,
           4,
           3,
           0,
           3,
           4,
           1,
           3,
           4,
           3,
           4,
           2,
           4,
           1,
           0,
           3,
           0,
           2,
           4,
           0,
           1,
           3,
           3,
           1,
           3,
           3,
           0,
           4,
           0,
           4,
           3,
           4,
           4,
           4,
           0,
           2,
           2,
           3,
           3,
           3,
           4,
           2,
           4,
           4,
           2,
           1,
           0,
           4,
           0,
           2,
           3,
           2,
           2,
           4,
           4,
           4,
           0,
           4,
           3,
           0,
           0,
           4,
           0,
           1,
           3,
           3,
           1,
           4,
           2,
           4,
           0,
           0,
           4,
           4,
           3,
           3,
           0,
           4,
           4,
           4,
           4,
           3,
           2,
           3,
           3,
           4,
           4,
           1,
           0,
           4,
           2,
           4,
           0,
           0,
           3,
           2,
           4,
           2,
           4,
           4,
           0,
           3,
           2,
           1,
           0,
           4,
           3,
           4,
           0,
           0,
           2,
           1,
           3,
           4,
           3,
           3,
           4,
           1,
           4,
           4,
           3,
           4,
           3,
           4,
           4,
           4,
           0,
           4,
           4,
           0,
           4,
           4,
           4,
           4,
           2,
           2,
           1,
           4,
           3,
           3,
           2,
           0,
           1,
           4,
           3,
           0,
           1,
           3,
           3,
           4,
           0,
           0,
           2,
           2,
           3,
           3,
           3,
           4,
           3,
           3,
           3,
           4,
           2,
           3,
           4,
           3,
           3,
           3,
           2,
           4,
           4,
           0,
           4,
           4,
           3,
           4,
           4,
           4,
           4,
           3,
           2,
           4,
           3,
           0,
           0,
           3,
           1,
           3,
           4,
           0,
           3,
           0,
           0,
           3,
           3,
           2,
           2,
           3,
           3,
           0,
           4,
           4,
           3,
           4,
           4,
           4,
           4,
           2,
           4,
           4,
           3,
           3,
           4,
           4,
           4,
           2,
           0,
           0,
           4,
           0,
           4,
           3,
           3,
           2,
           0,
           3,
           3,
           0,
           3,
           4,
           3,
           0,
           4,
           4,
           3,
           4,
           4,
           1,
           2,
           3,
           3,
           2,
           3,
           4,
           3,
           3,
           3,
           4,
           0,
           2,
           2,
           0,
           0,
           1,
           2,
           3,
           2,
           0,
           2,
           3,
           2,
           2,
           3,
           2,
           3,
           0,
           0,
           4,
           4,
           4,
           4,
           3,
           4,
           3,
           2,
           0,
           3,
           3,
           4,
           4,
           3,
           3,
           2,
           0,
           3,
           4,
           1,
           3,
           0,
           4,
           4,
           0,
           3,
           3,
           0,
           0,
           1,
           2,
           3,
           0,
           1,
           3,
           1,
           3,
           0,
           3,
           2,
           3,
           3,
           3,
           1,
           0,
           3,
           0,
           2,
           3,
           3,
           4,
           4,
           2,
           0,
           3,
           4,
           4,
           0,
           3,
           3,
           0,
           2,
           0,
           4
          ],
          "coloraxis": "coloraxis",
          "size": 5,
          "symbol": "circle"
         },
         "mode": "markers",
         "name": "",
         "scene": "scene",
         "showlegend": false,
         "type": "scatter3d",
         "x": [
          0.507,
          0.379,
          0.474,
          0.591,
          0.623,
          0.424,
          0.322,
          0.5760000000000001,
          0.418,
          0.516,
          0.632,
          0.574,
          0.568,
          0.516,
          0.569,
          0,
          0.644,
          0.21,
          0.513,
          0.544,
          0.588,
          0.616,
          0.608,
          0.57,
          0.562,
          0.396,
          0.48700000000000004,
          0.539,
          0.495,
          0.501,
          0.489,
          0.581,
          0.431,
          0.5670000000000001,
          0.507,
          0.581,
          0.599,
          0.532,
          0.557,
          0.531,
          0.508,
          0.521,
          0.36200000000000004,
          0.632,
          0.561,
          0.64,
          0.602,
          0.585,
          0.48700000000000004,
          0.5770000000000001,
          0.51,
          0.53,
          0.613,
          0.523,
          0.595,
          0.24,
          0.584,
          0.563,
          0.504,
          0.556,
          0.5479999999999999,
          0.455,
          0.621,
          0.614,
          0.499,
          0.518,
          0.469,
          0.547,
          0.38,
          0.563,
          0.48700000000000004,
          0.5489999999999999,
          0.674,
          0.47,
          0.5710000000000001,
          0.45299999999999996,
          0.568,
          0.6579999999999999,
          0.546,
          0.43200000000000005,
          0.565,
          0.541,
          0.569,
          0.606,
          0.5660000000000001,
          0.625,
          0.414,
          0.33299999999999996,
          0.375,
          0.48,
          0.502,
          0.539,
          0.627,
          0.562,
          0.574,
          0.45399999999999996,
          0.569,
          0.573,
          0.565,
          0.562,
          0.519,
          0.547,
          0.522,
          0.5379999999999999,
          0.585,
          0.595,
          0.6409999999999999,
          0.5579999999999999,
          0.597,
          0.682,
          0.632,
          0,
          0.602,
          0.255,
          0.588,
          0.542,
          0.653,
          0.644,
          0.49700000000000005,
          0.5720000000000001,
          0.58,
          0.507,
          0.545,
          0.526,
          0.434,
          0.517,
          0.555,
          0.5539999999999999,
          0.484,
          0.631,
          0.833,
          0.375,
          0.593,
          0.6459999999999999,
          0.374,
          0.483,
          0.516,
          0.624,
          0.568,
          0.505,
          0.5660000000000001,
          0.55,
          0.53,
          0.586,
          0.536,
          0.544,
          0.33,
          0.348,
          0.524,
          0.452,
          0.633,
          0.534,
          0.452,
          0.583,
          0.583,
          0.612,
          0.526,
          0.5539999999999999,
          0.682,
          0.413,
          0.5379999999999999,
          0.5489999999999999,
          0.562,
          0.45899999999999996,
          0.45799999999999996,
          0.5920000000000001,
          0.526,
          0,
          0.632,
          0.526,
          0.555,
          0.608,
          0.581,
          0.455,
          0.311,
          0.616,
          0.547,
          0.636,
          0.527,
          0.526,
          0.645,
          0.494,
          0.526,
          0.562,
          0.36,
          0.575,
          0.5529999999999999,
          0.58,
          0.5870000000000001,
          0.49700000000000005,
          0.588,
          0.5870000000000001,
          0.414,
          0.552,
          0.49700000000000005,
          0.518,
          0.555,
          0.46399999999999997,
          0.647,
          0.605,
          0.6459999999999999,
          0.638,
          0.5329999999999999,
          0.35700000000000004,
          0.612,
          0.507,
          0.5820000000000001,
          0.5870000000000001,
          0.5479999999999999,
          0.581,
          0,
          0.555,
          0.5920000000000001,
          0.537,
          0.531,
          0.6559999999999999,
          0.517,
          0.591,
          0.48700000000000004,
          0.547,
          0.588,
          0.6920000000000001,
          0.588,
          0.33299999999999996,
          0.574,
          0.522,
          0.589,
          0.72,
          0.5589999999999999,
          0.5479999999999999,
          0.39799999999999996,
          0.225,
          0.491,
          0.474,
          0.5870000000000001,
          0.56,
          0.5529999999999999,
          0.579,
          0.475,
          0.528,
          0.531,
          0.47700000000000004,
          0.545,
          0.546,
          0.552,
          0.574,
          0.594,
          0.5720000000000001,
          0.578,
          0.46799999999999997,
          0.575,
          0.606,
          0.675,
          0.616,
          0.509,
          0.588,
          0.555,
          0,
          0.636,
          0.597,
          0.598,
          0.561,
          0.562,
          0.635,
          0.532,
          0.595,
          0.5,
          0.7759999999999999,
          0.48200000000000004,
          0.33299999999999996,
          0.531,
          0.5529999999999999,
          0.528,
          0.502,
          0.25,
          0.495,
          0.581,
          0.5529999999999999,
          0.555,
          0.617,
          0.634,
          0.51,
          0.569,
          0.541,
          0.55,
          0.647,
          0.5589999999999999,
          0.466,
          0.389,
          0.5579999999999999,
          0.55,
          0.63,
          0.5720000000000001,
          0.57,
          0.483,
          0.537,
          0.38299999999999995,
          0.518,
          0.5670000000000001,
          0.46,
          0.568,
          0.5770000000000001,
          0.436,
          0.563,
          0.531,
          0.5379999999999999,
          0.415,
          0.522,
          0.583,
          0.534,
          0.5579999999999999,
          0.613,
          0.5710000000000001,
          0.608,
          0.469,
          0.41700000000000004,
          0.57,
          0.5579999999999999,
          0.589,
          0.537,
          0.531,
          0.603,
          0.489,
          0.49200000000000005,
          0.519,
          0.61,
          0.536,
          0.539,
          0.512,
          0.484,
          0.493,
          0.317,
          0.56,
          0.502,
          0.688,
          0.49,
          0.602,
          0.654,
          0.64,
          0.6409999999999999,
          0.682,
          0.596,
          0.5710000000000001,
          1,
          0.586,
          0.555,
          0.6,
          0.602,
          0.5,
          0.58,
          0.536,
          0.48100000000000004,
          0.616,
          0.514,
          0.511,
          0.491,
          0.6920000000000001,
          0.473,
          0.557,
          0.561,
          0.501,
          0.52,
          0.5329999999999999,
          0.63,
          0.5670000000000001,
          0.633,
          0.59,
          0.508,
          0.599,
          0.52,
          0.628,
          1.5,
          0.5820000000000001,
          0.535,
          0.568,
          0.485,
          0.444,
          0.5329999999999999,
          0.585,
          0.516,
          0.5,
          0.529,
          0.44299999999999995,
          0.547,
          0.528,
          0.557,
          0.37200000000000005,
          0.624,
          0.43700000000000006,
          0.413,
          0.48200000000000004,
          0.5710000000000001,
          0.551,
          0.485,
          0.5710000000000001,
          0.622,
          0.377,
          0.564,
          0.547,
          0.504,
          0.5670000000000001,
          0.698,
          0.513,
          0.539,
          0.561,
          0.573,
          0.51,
          0.5329999999999999,
          0.53,
          0.5579999999999999,
          0.446,
          0.527,
          0.45,
          0.575,
          0.597,
          0.58,
          0.402,
          0.35200000000000004,
          0.648,
          0.501,
          0.555,
          0,
          0.564,
          0.493,
          0.61,
          0.55,
          0.599,
          0.485,
          0.5539999999999999,
          0.5479999999999999,
          0.703,
          0.531,
          0.515,
          0.513,
          0.542,
          0.5,
          0.569,
          0.539,
          0.611,
          0.59
         ],
         "y": [
          5.3,
          1.7,
          3.2,
          13.9,
          8.9,
          1.7,
          1,
          21.3,
          3.7,
          5.6,
          10.9,
          9.9,
          9.4,
          3.7,
          8,
          0,
          27.7,
          1,
          13.4,
          7,
          6.7,
          11.7,
          16.3,
          7.3,
          14.9,
          1.9,
          9.9,
          6.2,
          10.9,
          11.5,
          5,
          9.3,
          6.1,
          5.6,
          11.6,
          25.6,
          11.3,
          7,
          10.5,
          3.3,
          8.4,
          5,
          2.8,
          8,
          7.6,
          4.8,
          4.4,
          9.6,
          7.3,
          15.9,
          4.2,
          14.1,
          18,
          3.5,
          4.7,
          0.9,
          26.6,
          3.3,
          5.7,
          8.3,
          7.5,
          3.5,
          4,
          15.6,
          7.5,
          6.6,
          4.3,
          13,
          2.1,
          6.4,
          4.8,
          9.3,
          10.5,
          2.6,
          8.3,
          2.3,
          11.4,
          16.6,
          11.1,
          4.4,
          7.4,
          10.3,
          9.2,
          6.3,
          11.9,
          2.5,
          0.8,
          2,
          0.9,
          2.9,
          6.7,
          16.8,
          19.5,
          6.6,
          11.2,
          4.9,
          21.1,
          6.9,
          6.9,
          16.3,
          9.6,
          5.7,
          7.9,
          11.9,
          3,
          7.9,
          27.3,
          6.2,
          25.9,
          4,
          5.8,
          0,
          10.8,
          1.5,
          7.1,
          21.2,
          4.2,
          6,
          3.7,
          6.4,
          16.8,
          4.9,
          21.2,
          10.7,
          3.2,
          13.7,
          17.3,
          4.9,
          11.3,
          26,
          1.7,
          1.5,
          27.5,
          1.8,
          1.3,
          10.2,
          6.9,
          11.8,
          4,
          4.3,
          6.9,
          5.9,
          7.5,
          11.8,
          15.1,
          17.3,
          1.5,
          3.7,
          3.6,
          8.2,
          19.8,
          8.4,
          6.5,
          13.7,
          28,
          10.8,
          7,
          10.8,
          15.9,
          1.4,
          16,
          16.2,
          5,
          4.7,
          5.3,
          13.6,
          4.2,
          0,
          10.3,
          7.4,
          9.2,
          12.3,
          24.5,
          3,
          4,
          36.1,
          7.7,
          16.6,
          6.3,
          12.9,
          13.7,
          6.5,
          7.8,
          1.9,
          2.5,
          11.5,
          5.6,
          5.8,
          7.3,
          8.8,
          4,
          20.7,
          1.8,
          3.6,
          4.3,
          5.9,
          21.2,
          8.9,
          8.2,
          13.6,
          9.4,
          12.8,
          9.7,
          3,
          17,
          5.2,
          15,
          5.7,
          6.8,
          12.1,
          0,
          18.3,
          23.8,
          9.6,
          5,
          3.7,
          8.1,
          13.8,
          11.5,
          15.4,
          27.4,
          2.3,
          6.3,
          0.9,
          3.9,
          7.8,
          20.1,
          5.4,
          7,
          5.1,
          4.5,
          1,
          6.9,
          6.5,
          8.6,
          9.7,
          6.7,
          6.8,
          12.8,
          5.8,
          7,
          3.7,
          8.5,
          18.7,
          15.3,
          23.7,
          7.6,
          3.9,
          4.9,
          14.3,
          11.1,
          26.6,
          5.9,
          3.8,
          13.7,
          25.8,
          4,
          0,
          6.3,
          12.5,
          9.5,
          17,
          14.2,
          2.4,
          2,
          0.9,
          8.5,
          2.5,
          3.6,
          3,
          4.1,
          18.7,
          2.7,
          5.1,
          1,
          5,
          4,
          21,
          6.4,
          7.3,
          12,
          7.6,
          4.7,
          3.9,
          5.9,
          6.4,
          3.9,
          5,
          1.8,
          18.3,
          8.2,
          3.5,
          9.9,
          12.6,
          4.4,
          23.8,
          1.1,
          8.9,
          11.9,
          2.5,
          13.9,
          10.4,
          2,
          4.6,
          14.8,
          18.2,
          2.1,
          4,
          9.4,
          9.4,
          5.3,
          4,
          7.1,
          4.9,
          7.3,
          5.7,
          15.6,
          6.5,
          5.2,
          3.5,
          3.3,
          8.2,
          5.7,
          7.7,
          18.8,
          10,
          13,
          3.9,
          9.5,
          7.5,
          3.6,
          1.7,
          15.6,
          10.6,
          3.7,
          4.5,
          7.8,
          4.4,
          5.5,
          1.8,
          10.6,
          8.6,
          5.1,
          2,
          5.8,
          5.5,
          21.4,
          18.1,
          1.2,
          5,
          16.6,
          1.4,
          6.7,
          3.3,
          4.2,
          3.4,
          7.3,
          9.2,
          18,
          15.1,
          9,
          12.7,
          21.1,
          14.1,
          5.1,
          20,
          8.9,
          15.5,
          3.8,
          16.7,
          16.9,
          3,
          16.9,
          3.8,
          8.9,
          8.9,
          6.7,
          6.7,
          6,
          5.9,
          2,
          7.2,
          2.9,
          15.7,
          12.1,
          3.2,
          2.2,
          5.7,
          8.1,
          2.3,
          4.5,
          21.5,
          10.9,
          1,
          5,
          24.4,
          2.7,
          10.9,
          7.3,
          6.8,
          13.3,
          2.3,
          1.4,
          11,
          8.4,
          20.8,
          15,
          4.8,
          12,
          25.6,
          2.6,
          20.7,
          3.5,
          13.5,
          3.9,
          18,
          2.2,
          2.6,
          1.6,
          22.9,
          9.9,
          0,
          12.3,
          18.1,
          3.6,
          2.6,
          6.5,
          6.1,
          20,
          10.1,
          2.5,
          5.3,
          5.8,
          12.6,
          2.3,
          2.3,
          12.6,
          19.1,
          10.1,
          7.8
         ],
         "z": [
          2.1,
          3.3,
          3.7,
          11.1,
          9.5,
          1.3,
          1.5,
          11.6,
          3.9000000000000004,
          1.2999999999999998,
          9.8,
          6.7,
          8.8,
          2.3,
          8.8,
          1.3,
          18.4,
          0.5,
          5.9,
          3.5999999999999996,
          6,
          7.8,
          12.100000000000001,
          3.2,
          8.6,
          1.7000000000000002,
          10.7,
          5.8,
          8.1,
          7.5,
          3.4,
          8.5,
          5.3,
          5.800000000000001,
          6.199999999999999,
          10.5,
          3.7,
          3.3,
          4.2,
          3.8000000000000003,
          6.9,
          5.2,
          1.6,
          4.8,
          8.8,
          4.6,
          5.199999999999999,
          7.699999999999999,
          2.5999999999999996,
          10.1,
          4.1,
          7.3,
          6.1,
          6,
          4.7,
          1.8,
          10.899999999999999,
          2.1,
          5.3,
          5.300000000000001,
          5.2,
          4.1,
          2,
          7.7,
          2.6,
          2.5,
          3.7,
          5.6,
          2.3,
          4.6,
          4.3,
          5.5,
          7.6,
          1.2,
          6.1,
          3.5,
          4.2,
          14.1,
          6.5,
          3.5,
          3.7,
          8.8,
          5.800000000000001,
          3.9000000000000004,
          10.8,
          1.8,
          0.7999999999999999,
          1,
          1.2,
          2.6999999999999997,
          3.1,
          5.699999999999999,
          11.8,
          5.1000000000000005,
          9.1,
          4.2,
          9.8,
          6.2,
          3.7,
          11.799999999999999,
          4.5,
          4.5,
          4.9,
          6.5,
          3.7,
          2.5,
          10.5,
          1.9,
          15.9,
          4.6,
          9.4,
          1,
          8.9,
          2,
          4.1,
          12.2,
          1.3,
          5.7,
          2.1999999999999997,
          5,
          7,
          3.5,
          13.8,
          5.4,
          3.5999999999999996,
          7.9,
          17,
          4,
          10.1,
          12.3,
          1,
          1,
          17.3,
          1.8,
          1.6,
          5.3,
          4.2,
          8.6,
          4.2,
          2.6,
          2.9,
          3.4,
          6,
          5,
          6.800000000000001,
          11.1,
          0.6,
          2.5,
          2,
          6.800000000000001,
          8.7,
          3.2,
          2.6,
          9.4,
          12.299999999999999,
          7.7,
          5.3,
          6.1,
          14.9,
          1.1,
          11.100000000000001,
          4.1,
          7,
          4,
          4.1,
          6.2,
          4.2,
          0,
          5.6,
          14.2,
          3,
          5.8,
          12.9,
          3.7,
          3,
          14.1,
          5.7,
          8.5,
          3.4000000000000004,
          5,
          6.199999999999999,
          4.9,
          5.1,
          2.2,
          2.9000000000000004,
          7.9,
          6.1,
          4.6,
          6.4,
          5.6,
          3,
          7.5,
          1.4,
          3.5,
          4.3,
          3,
          12.7,
          6.9,
          5.6000000000000005,
          10.9,
          4.6,
          9.6,
          6.199999999999999,
          2.2,
          6,
          5,
          9.4,
          6.9,
          5.3,
          9.7,
          0.5,
          8.1,
          11.9,
          6.6,
          3.8000000000000003,
          1.3,
          3.3000000000000003,
          5.800000000000001,
          6.7,
          6.800000000000001,
          16.8,
          2.1,
          5.2,
          1.5,
          4.1,
          5.7,
          18.1,
          4.3,
          4.6,
          2.5,
          10.399999999999999,
          2,
          6.8,
          7.3,
          4.8,
          4.7,
          4.8,
          5.6,
          5.6,
          3.3000000000000003,
          4.1,
          5.1000000000000005,
          4.7,
          8,
          7.7,
          9.2,
          3.8,
          2.6,
          2.4,
          9.5,
          6.6,
          10.6,
          5,
          2.6999999999999997,
          7.699999999999999,
          11.5,
          3.6,
          0,
          6.7,
          6.1000000000000005,
          5.1,
          13.100000000000001,
          13.5,
          1.3,
          4,
          0.8999999999999999,
          5.199999999999999,
          0.8,
          2.4,
          2.5,
          4.5,
          10.4,
          2.1,
          3.3000000000000003,
          1.5,
          2.3,
          1,
          7,
          5.699999999999999,
          2.3,
          8.2,
          5.3,
          3.8,
          1.1,
          2.6,
          2.5,
          4.6,
          5.9,
          1.6,
          10.3,
          4,
          0.6,
          5.2,
          9.2,
          2.7,
          8.3,
          1.5,
          3.5,
          4.3,
          2.3,
          7.6,
          6,
          1.3,
          2.8,
          7.199999999999999,
          9,
          0.8,
          2.1999999999999997,
          11.399999999999999,
          4.4,
          4.2,
          2.1,
          7.800000000000001,
          4.8,
          3.8,
          4.8,
          13.600000000000001,
          4.300000000000001,
          5,
          3.8,
          1.9,
          5.4,
          4.2,
          4.1,
          10.8,
          6.5,
          7.300000000000001,
          5.2,
          5.2,
          4.5,
          2.8,
          3,
          12.799999999999999,
          12.8,
          2,
          3.2,
          9.4,
          3.1,
          6.5,
          1.4,
          6.8,
          3.8,
          4.4,
          0,
          5.300000000000001,
          3.1,
          11.799999999999999,
          5.1,
          0.8999999999999999,
          2.3,
          7.699999999999999,
          0.6,
          3.8,
          1.6,
          1.9,
          1.7999999999999998,
          7,
          13.3,
          7,
          5.2,
          6.8,
          9.7,
          10.9,
          12.200000000000001,
          1.8,
          9,
          8.5,
          7.699999999999999,
          3,
          5.9,
          10,
          0,
          16.5,
          1.4,
          6.9,
          6.2,
          3.5,
          3.9000000000000004,
          3,
          5.2,
          0,
          5.300000000000001,
          1.4,
          8.1,
          10.7,
          3.2,
          1.3,
          4.4,
          3,
          1.1,
          3.1,
          6.199999999999999,
          12.2,
          1,
          3.4000000000000004,
          15.8,
          1,
          5,
          7,
          8.4,
          8.8,
          2.3,
          1.5999999999999999,
          7.4,
          9.7,
          15.8,
          8.2,
          2.6,
          5.4,
          10.3,
          1.5,
          12.299999999999999,
          2.3,
          5.7,
          2.7,
          5.5,
          3.0999999999999996,
          2.6,
          0.9,
          21.799999999999997,
          7.6,
          0.7,
          12.100000000000001,
          7.3,
          4.3999999999999995,
          1.3,
          4.6,
          6.6,
          8.4,
          6.6000000000000005,
          2.7,
          3.3,
          5.699999999999999,
          9.7,
          1.7000000000000002,
          0.8,
          9,
          11.8,
          8.9,
          6.300000000000001
         ]
        }
       ],
       "layout": {
        "coloraxis": {
         "colorbar": {
          "title": {
           "text": "color"
          }
         },
         "colorscale": [
          [
           0,
           "rgb(12,51,131)"
          ],
          [
           0.25,
           "rgb(10,136,186)"
          ],
          [
           0.5,
           "rgb(242,211,56)"
          ],
          [
           0.75,
           "rgb(242,143,56)"
          ],
          [
           1,
           "rgb(217,30,30)"
          ]
         ]
        },
        "height": 1000,
        "legend": {
         "tracegroupgap": 0
        },
        "margin": {
         "t": 60
        },
        "scene": {
         "domain": {
          "x": [
           0,
           1
          ],
          "y": [
           0,
           1
          ]
         },
         "xaxis": {
          "title": {
           "text": "TS"
          }
         },
         "yaxis": {
          "title": {
           "text": "PTS"
          }
         },
         "zaxis": {
          "title": {
           "text": "RA"
          }
         }
        },
        "template": {
         "data": {
          "bar": [
           {
            "error_x": {
             "color": "#2a3f5f"
            },
            "error_y": {
             "color": "#2a3f5f"
            },
            "marker": {
             "line": {
              "color": "#E5ECF6",
              "width": 0.5
             }
            },
            "type": "bar"
           }
          ],
          "barpolar": [
           {
            "marker": {
             "line": {
              "color": "#E5ECF6",
              "width": 0.5
             }
            },
            "type": "barpolar"
           }
          ],
          "carpet": [
           {
            "aaxis": {
             "endlinecolor": "#2a3f5f",
             "gridcolor": "white",
             "linecolor": "white",
             "minorgridcolor": "white",
             "startlinecolor": "#2a3f5f"
            },
            "baxis": {
             "endlinecolor": "#2a3f5f",
             "gridcolor": "white",
             "linecolor": "white",
             "minorgridcolor": "white",
             "startlinecolor": "#2a3f5f"
            },
            "type": "carpet"
           }
          ],
          "choropleth": [
           {
            "colorbar": {
             "outlinewidth": 0,
             "ticks": ""
            },
            "type": "choropleth"
           }
          ],
          "contour": [
           {
            "colorbar": {
             "outlinewidth": 0,
             "ticks": ""
            },
            "colorscale": [
             [
              0,
              "#0d0887"
             ],
             [
              0.1111111111111111,
              "#46039f"
             ],
             [
              0.2222222222222222,
              "#7201a8"
             ],
             [
              0.3333333333333333,
              "#9c179e"
             ],
             [
              0.4444444444444444,
              "#bd3786"
             ],
             [
              0.5555555555555556,
              "#d8576b"
             ],
             [
              0.6666666666666666,
              "#ed7953"
             ],
             [
              0.7777777777777778,
              "#fb9f3a"
             ],
             [
              0.8888888888888888,
              "#fdca26"
             ],
             [
              1,
              "#f0f921"
             ]
            ],
            "type": "contour"
           }
          ],
          "contourcarpet": [
           {
            "colorbar": {
             "outlinewidth": 0,
             "ticks": ""
            },
            "type": "contourcarpet"
           }
          ],
          "heatmap": [
           {
            "colorbar": {
             "outlinewidth": 0,
             "ticks": ""
            },
            "colorscale": [
             [
              0,
              "#0d0887"
             ],
             [
              0.1111111111111111,
              "#46039f"
             ],
             [
              0.2222222222222222,
              "#7201a8"
             ],
             [
              0.3333333333333333,
              "#9c179e"
             ],
             [
              0.4444444444444444,
              "#bd3786"
             ],
             [
              0.5555555555555556,
              "#d8576b"
             ],
             [
              0.6666666666666666,
              "#ed7953"
             ],
             [
              0.7777777777777778,
              "#fb9f3a"
             ],
             [
              0.8888888888888888,
              "#fdca26"
             ],
             [
              1,
              "#f0f921"
             ]
            ],
            "type": "heatmap"
           }
          ],
          "heatmapgl": [
           {
            "colorbar": {
             "outlinewidth": 0,
             "ticks": ""
            },
            "colorscale": [
             [
              0,
              "#0d0887"
             ],
             [
              0.1111111111111111,
              "#46039f"
             ],
             [
              0.2222222222222222,
              "#7201a8"
             ],
             [
              0.3333333333333333,
              "#9c179e"
             ],
             [
              0.4444444444444444,
              "#bd3786"
             ],
             [
              0.5555555555555556,
              "#d8576b"
             ],
             [
              0.6666666666666666,
              "#ed7953"
             ],
             [
              0.7777777777777778,
              "#fb9f3a"
             ],
             [
              0.8888888888888888,
              "#fdca26"
             ],
             [
              1,
              "#f0f921"
             ]
            ],
            "type": "heatmapgl"
           }
          ],
          "histogram": [
           {
            "marker": {
             "colorbar": {
              "outlinewidth": 0,
              "ticks": ""
             }
            },
            "type": "histogram"
           }
          ],
          "histogram2d": [
           {
            "colorbar": {
             "outlinewidth": 0,
             "ticks": ""
            },
            "colorscale": [
             [
              0,
              "#0d0887"
             ],
             [
              0.1111111111111111,
              "#46039f"
             ],
             [
              0.2222222222222222,
              "#7201a8"
             ],
             [
              0.3333333333333333,
              "#9c179e"
             ],
             [
              0.4444444444444444,
              "#bd3786"
             ],
             [
              0.5555555555555556,
              "#d8576b"
             ],
             [
              0.6666666666666666,
              "#ed7953"
             ],
             [
              0.7777777777777778,
              "#fb9f3a"
             ],
             [
              0.8888888888888888,
              "#fdca26"
             ],
             [
              1,
              "#f0f921"
             ]
            ],
            "type": "histogram2d"
           }
          ],
          "histogram2dcontour": [
           {
            "colorbar": {
             "outlinewidth": 0,
             "ticks": ""
            },
            "colorscale": [
             [
              0,
              "#0d0887"
             ],
             [
              0.1111111111111111,
              "#46039f"
             ],
             [
              0.2222222222222222,
              "#7201a8"
             ],
             [
              0.3333333333333333,
              "#9c179e"
             ],
             [
              0.4444444444444444,
              "#bd3786"
             ],
             [
              0.5555555555555556,
              "#d8576b"
             ],
             [
              0.6666666666666666,
              "#ed7953"
             ],
             [
              0.7777777777777778,
              "#fb9f3a"
             ],
             [
              0.8888888888888888,
              "#fdca26"
             ],
             [
              1,
              "#f0f921"
             ]
            ],
            "type": "histogram2dcontour"
           }
          ],
          "mesh3d": [
           {
            "colorbar": {
             "outlinewidth": 0,
             "ticks": ""
            },
            "type": "mesh3d"
           }
          ],
          "parcoords": [
           {
            "line": {
             "colorbar": {
              "outlinewidth": 0,
              "ticks": ""
             }
            },
            "type": "parcoords"
           }
          ],
          "pie": [
           {
            "automargin": true,
            "type": "pie"
           }
          ],
          "scatter": [
           {
            "marker": {
             "colorbar": {
              "outlinewidth": 0,
              "ticks": ""
             }
            },
            "type": "scatter"
           }
          ],
          "scatter3d": [
           {
            "line": {
             "colorbar": {
              "outlinewidth": 0,
              "ticks": ""
             }
            },
            "marker": {
             "colorbar": {
              "outlinewidth": 0,
              "ticks": ""
             }
            },
            "type": "scatter3d"
           }
          ],
          "scattercarpet": [
           {
            "marker": {
             "colorbar": {
              "outlinewidth": 0,
              "ticks": ""
             }
            },
            "type": "scattercarpet"
           }
          ],
          "scattergeo": [
           {
            "marker": {
             "colorbar": {
              "outlinewidth": 0,
              "ticks": ""
             }
            },
            "type": "scattergeo"
           }
          ],
          "scattergl": [
           {
            "marker": {
             "colorbar": {
              "outlinewidth": 0,
              "ticks": ""
             }
            },
            "type": "scattergl"
           }
          ],
          "scattermapbox": [
           {
            "marker": {
             "colorbar": {
              "outlinewidth": 0,
              "ticks": ""
             }
            },
            "type": "scattermapbox"
           }
          ],
          "scatterpolar": [
           {
            "marker": {
             "colorbar": {
              "outlinewidth": 0,
              "ticks": ""
             }
            },
            "type": "scatterpolar"
           }
          ],
          "scatterpolargl": [
           {
            "marker": {
             "colorbar": {
              "outlinewidth": 0,
              "ticks": ""
             }
            },
            "type": "scatterpolargl"
           }
          ],
          "scatterternary": [
           {
            "marker": {
             "colorbar": {
              "outlinewidth": 0,
              "ticks": ""
             }
            },
            "type": "scatterternary"
           }
          ],
          "surface": [
           {
            "colorbar": {
             "outlinewidth": 0,
             "ticks": ""
            },
            "colorscale": [
             [
              0,
              "#0d0887"
             ],
             [
              0.1111111111111111,
              "#46039f"
             ],
             [
              0.2222222222222222,
              "#7201a8"
             ],
             [
              0.3333333333333333,
              "#9c179e"
             ],
             [
              0.4444444444444444,
              "#bd3786"
             ],
             [
              0.5555555555555556,
              "#d8576b"
             ],
             [
              0.6666666666666666,
              "#ed7953"
             ],
             [
              0.7777777777777778,
              "#fb9f3a"
             ],
             [
              0.8888888888888888,
              "#fdca26"
             ],
             [
              1,
              "#f0f921"
             ]
            ],
            "type": "surface"
           }
          ],
          "table": [
           {
            "cells": {
             "fill": {
              "color": "#EBF0F8"
             },
             "line": {
              "color": "white"
             }
            },
            "header": {
             "fill": {
              "color": "#C8D4E3"
             },
             "line": {
              "color": "white"
             }
            },
            "type": "table"
           }
          ]
         },
         "layout": {
          "annotationdefaults": {
           "arrowcolor": "#2a3f5f",
           "arrowhead": 0,
           "arrowwidth": 1
          },
          "coloraxis": {
           "colorbar": {
            "outlinewidth": 0,
            "ticks": ""
           }
          },
          "colorscale": {
           "diverging": [
            [
             0,
             "#8e0152"
            ],
            [
             0.1,
             "#c51b7d"
            ],
            [
             0.2,
             "#de77ae"
            ],
            [
             0.3,
             "#f1b6da"
            ],
            [
             0.4,
             "#fde0ef"
            ],
            [
             0.5,
             "#f7f7f7"
            ],
            [
             0.6,
             "#e6f5d0"
            ],
            [
             0.7,
             "#b8e186"
            ],
            [
             0.8,
             "#7fbc41"
            ],
            [
             0.9,
             "#4d9221"
            ],
            [
             1,
             "#276419"
            ]
           ],
           "sequential": [
            [
             0,
             "#0d0887"
            ],
            [
             0.1111111111111111,
             "#46039f"
            ],
            [
             0.2222222222222222,
             "#7201a8"
            ],
            [
             0.3333333333333333,
             "#9c179e"
            ],
            [
             0.4444444444444444,
             "#bd3786"
            ],
            [
             0.5555555555555556,
             "#d8576b"
            ],
            [
             0.6666666666666666,
             "#ed7953"
            ],
            [
             0.7777777777777778,
             "#fb9f3a"
            ],
            [
             0.8888888888888888,
             "#fdca26"
            ],
            [
             1,
             "#f0f921"
            ]
           ],
           "sequentialminus": [
            [
             0,
             "#0d0887"
            ],
            [
             0.1111111111111111,
             "#46039f"
            ],
            [
             0.2222222222222222,
             "#7201a8"
            ],
            [
             0.3333333333333333,
             "#9c179e"
            ],
            [
             0.4444444444444444,
             "#bd3786"
            ],
            [
             0.5555555555555556,
             "#d8576b"
            ],
            [
             0.6666666666666666,
             "#ed7953"
            ],
            [
             0.7777777777777778,
             "#fb9f3a"
            ],
            [
             0.8888888888888888,
             "#fdca26"
            ],
            [
             1,
             "#f0f921"
            ]
           ]
          },
          "colorway": [
           "#636efa",
           "#EF553B",
           "#00cc96",
           "#ab63fa",
           "#FFA15A",
           "#19d3f3",
           "#FF6692",
           "#B6E880",
           "#FF97FF",
           "#FECB52"
          ],
          "font": {
           "color": "#2a3f5f"
          },
          "geo": {
           "bgcolor": "white",
           "lakecolor": "white",
           "landcolor": "#E5ECF6",
           "showlakes": true,
           "showland": true,
           "subunitcolor": "white"
          },
          "hoverlabel": {
           "align": "left"
          },
          "hovermode": "closest",
          "mapbox": {
           "style": "light"
          },
          "paper_bgcolor": "white",
          "plot_bgcolor": "#E5ECF6",
          "polar": {
           "angularaxis": {
            "gridcolor": "white",
            "linecolor": "white",
            "ticks": ""
           },
           "bgcolor": "#E5ECF6",
           "radialaxis": {
            "gridcolor": "white",
            "linecolor": "white",
            "ticks": ""
           }
          },
          "scene": {
           "xaxis": {
            "backgroundcolor": "#E5ECF6",
            "gridcolor": "white",
            "gridwidth": 2,
            "linecolor": "white",
            "showbackground": true,
            "ticks": "",
            "zerolinecolor": "white"
           },
           "yaxis": {
            "backgroundcolor": "#E5ECF6",
            "gridcolor": "white",
            "gridwidth": 2,
            "linecolor": "white",
            "showbackground": true,
            "ticks": "",
            "zerolinecolor": "white"
           },
           "zaxis": {
            "backgroundcolor": "#E5ECF6",
            "gridcolor": "white",
            "gridwidth": 2,
            "linecolor": "white",
            "showbackground": true,
            "ticks": "",
            "zerolinecolor": "white"
           }
          },
          "shapedefaults": {
           "line": {
            "color": "#2a3f5f"
           }
          },
          "ternary": {
           "aaxis": {
            "gridcolor": "white",
            "linecolor": "white",
            "ticks": ""
           },
           "baxis": {
            "gridcolor": "white",
            "linecolor": "white",
            "ticks": ""
           },
           "bgcolor": "#E5ECF6",
           "caxis": {
            "gridcolor": "white",
            "linecolor": "white",
            "ticks": ""
           }
          },
          "title": {
           "x": 0.05
          },
          "xaxis": {
           "automargin": true,
           "gridcolor": "white",
           "linecolor": "white",
           "ticks": "",
           "title": {
            "standoff": 15
           },
           "zerolinecolor": "white",
           "zerolinewidth": 2
          },
          "yaxis": {
           "automargin": true,
           "gridcolor": "white",
           "linecolor": "white",
           "ticks": "",
           "title": {
            "standoff": 15
           },
           "zerolinecolor": "white",
           "zerolinewidth": 2
          }
         }
        },
        "width": 1000
       }
      },
      "text/html": [
       "<div>\n",
       "        \n",
       "        \n",
       "            <div id=\"96909747-6770-4bdb-bf81-07f0826f15b5\" class=\"plotly-graph-div\" style=\"height:1000px; width:1000px;\"></div>\n",
       "            <script type=\"text/javascript\">\n",
       "                require([\"plotly\"], function(Plotly) {\n",
       "                    window.PLOTLYENV=window.PLOTLYENV || {};\n",
       "                    \n",
       "                if (document.getElementById(\"96909747-6770-4bdb-bf81-07f0826f15b5\")) {\n",
       "                    Plotly.newPlot(\n",
       "                        '96909747-6770-4bdb-bf81-07f0826f15b5',\n",
       "                        [{\"hoverlabel\": {\"namelength\": 0}, \"hovertemplate\": \"TS=%{x}<br>PTS=%{y}<br>RA=%{z}<br>color=%{marker.color}\", \"legendgroup\": \"\", \"marker\": {\"color\": [3, 3, 3, 2, 0, 3, 3, 1, 3, 3, 0, 0, 0, 3, 0, 3, 1, 3, 0, 4, 4, 0, 2, 4, 2, 3, 0, 4, 0, 0, 4, 0, 4, 4, 0, 1, 0, 4, 0, 3, 0, 4, 3, 4, 0, 4, 4, 0, 4, 2, 4, 0, 2, 4, 4, 3, 1, 3, 4, 4, 4, 3, 3, 2, 4, 4, 3, 0, 3, 4, 4, 0, 0, 3, 4, 3, 0, 2, 0, 3, 4, 0, 0, 4, 0, 3, 3, 3, 3, 3, 4, 2, 2, 4, 0, 4, 2, 4, 4, 2, 4, 4, 4, 0, 3, 4, 1, 4, 1, 4, 4, 3, 0, 3, 4, 1, 3, 4, 3, 4, 2, 4, 1, 0, 3, 0, 2, 4, 0, 1, 3, 3, 1, 3, 3, 0, 4, 0, 4, 3, 4, 4, 4, 0, 2, 2, 3, 3, 3, 4, 2, 4, 4, 2, 1, 0, 4, 0, 2, 3, 2, 2, 4, 4, 4, 0, 4, 3, 0, 0, 4, 0, 1, 3, 3, 1, 4, 2, 4, 0, 0, 4, 4, 3, 3, 0, 4, 4, 4, 4, 3, 2, 3, 3, 4, 4, 1, 0, 4, 2, 4, 0, 0, 3, 2, 4, 2, 4, 4, 0, 3, 2, 1, 0, 4, 3, 4, 0, 0, 2, 1, 3, 4, 3, 3, 4, 1, 4, 4, 3, 4, 3, 4, 4, 4, 0, 4, 4, 0, 4, 4, 4, 4, 2, 2, 1, 4, 3, 3, 2, 0, 1, 4, 3, 0, 1, 3, 3, 4, 0, 0, 2, 2, 3, 3, 3, 4, 3, 3, 3, 4, 2, 3, 4, 3, 3, 3, 2, 4, 4, 0, 4, 4, 3, 4, 4, 4, 4, 3, 2, 4, 3, 0, 0, 3, 1, 3, 4, 0, 3, 0, 0, 3, 3, 2, 2, 3, 3, 0, 4, 4, 3, 4, 4, 4, 4, 2, 4, 4, 3, 3, 4, 4, 4, 2, 0, 0, 4, 0, 4, 3, 3, 2, 0, 3, 3, 0, 3, 4, 3, 0, 4, 4, 3, 4, 4, 1, 2, 3, 3, 2, 3, 4, 3, 3, 3, 4, 0, 2, 2, 0, 0, 1, 2, 3, 2, 0, 2, 3, 2, 2, 3, 2, 3, 0, 0, 4, 4, 4, 4, 3, 4, 3, 2, 0, 3, 3, 4, 4, 3, 3, 2, 0, 3, 4, 1, 3, 0, 4, 4, 0, 3, 3, 0, 0, 1, 2, 3, 0, 1, 3, 1, 3, 0, 3, 2, 3, 3, 3, 1, 0, 3, 0, 2, 3, 3, 4, 4, 2, 0, 3, 4, 4, 0, 3, 3, 0, 2, 0, 4], \"coloraxis\": \"coloraxis\", \"size\": 5, \"symbol\": \"circle\"}, \"mode\": \"markers\", \"name\": \"\", \"scene\": \"scene\", \"showlegend\": false, \"type\": \"scatter3d\", \"x\": [0.507, 0.379, 0.474, 0.591, 0.623, 0.424, 0.322, 0.5760000000000001, 0.418, 0.516, 0.632, 0.574, 0.568, 0.516, 0.569, 0.0, 0.644, 0.21, 0.513, 0.544, 0.588, 0.616, 0.608, 0.57, 0.562, 0.396, 0.48700000000000004, 0.539, 0.495, 0.501, 0.489, 0.581, 0.431, 0.5670000000000001, 0.507, 0.581, 0.599, 0.532, 0.557, 0.531, 0.508, 0.521, 0.36200000000000004, 0.632, 0.561, 0.64, 0.602, 0.585, 0.48700000000000004, 0.5770000000000001, 0.51, 0.53, 0.613, 0.523, 0.595, 0.24, 0.584, 0.563, 0.504, 0.556, 0.5479999999999999, 0.455, 0.621, 0.614, 0.499, 0.518, 0.469, 0.547, 0.38, 0.563, 0.48700000000000004, 0.5489999999999999, 0.674, 0.47, 0.5710000000000001, 0.45299999999999996, 0.568, 0.6579999999999999, 0.546, 0.43200000000000005, 0.565, 0.541, 0.569, 0.606, 0.5660000000000001, 0.625, 0.414, 0.33299999999999996, 0.375, 0.48, 0.502, 0.539, 0.627, 0.562, 0.574, 0.45399999999999996, 0.569, 0.573, 0.565, 0.562, 0.519, 0.547, 0.522, 0.5379999999999999, 0.585, 0.595, 0.6409999999999999, 0.5579999999999999, 0.597, 0.682, 0.632, 0.0, 0.602, 0.255, 0.588, 0.542, 0.653, 0.644, 0.49700000000000005, 0.5720000000000001, 0.58, 0.507, 0.545, 0.526, 0.434, 0.517, 0.555, 0.5539999999999999, 0.484, 0.631, 0.833, 0.375, 0.593, 0.6459999999999999, 0.374, 0.483, 0.516, 0.624, 0.568, 0.505, 0.5660000000000001, 0.55, 0.53, 0.586, 0.536, 0.544, 0.33, 0.348, 0.524, 0.452, 0.633, 0.534, 0.452, 0.583, 0.583, 0.612, 0.526, 0.5539999999999999, 0.682, 0.413, 0.5379999999999999, 0.5489999999999999, 0.562, 0.45899999999999996, 0.45799999999999996, 0.5920000000000001, 0.526, 0.0, 0.632, 0.526, 0.555, 0.608, 0.581, 0.455, 0.311, 0.616, 0.547, 0.636, 0.527, 0.526, 0.645, 0.494, 0.526, 0.562, 0.36, 0.575, 0.5529999999999999, 0.58, 0.5870000000000001, 0.49700000000000005, 0.588, 0.5870000000000001, 0.414, 0.552, 0.49700000000000005, 0.518, 0.555, 0.46399999999999997, 0.647, 0.605, 0.6459999999999999, 0.638, 0.5329999999999999, 0.35700000000000004, 0.612, 0.507, 0.5820000000000001, 0.5870000000000001, 0.5479999999999999, 0.581, 0.0, 0.555, 0.5920000000000001, 0.537, 0.531, 0.6559999999999999, 0.517, 0.591, 0.48700000000000004, 0.547, 0.588, 0.6920000000000001, 0.588, 0.33299999999999996, 0.574, 0.522, 0.589, 0.72, 0.5589999999999999, 0.5479999999999999, 0.39799999999999996, 0.225, 0.491, 0.474, 0.5870000000000001, 0.56, 0.5529999999999999, 0.579, 0.475, 0.528, 0.531, 0.47700000000000004, 0.545, 0.546, 0.552, 0.574, 0.594, 0.5720000000000001, 0.578, 0.46799999999999997, 0.575, 0.606, 0.675, 0.616, 0.509, 0.588, 0.555, 0.0, 0.636, 0.597, 0.598, 0.561, 0.562, 0.635, 0.532, 0.595, 0.5, 0.7759999999999999, 0.48200000000000004, 0.33299999999999996, 0.531, 0.5529999999999999, 0.528, 0.502, 0.25, 0.495, 0.581, 0.5529999999999999, 0.555, 0.617, 0.634, 0.51, 0.569, 0.541, 0.55, 0.647, 0.5589999999999999, 0.466, 0.389, 0.5579999999999999, 0.55, 0.63, 0.5720000000000001, 0.57, 0.483, 0.537, 0.38299999999999995, 0.518, 0.5670000000000001, 0.46, 0.568, 0.5770000000000001, 0.436, 0.563, 0.531, 0.5379999999999999, 0.415, 0.522, 0.583, 0.534, 0.5579999999999999, 0.613, 0.5710000000000001, 0.608, 0.469, 0.41700000000000004, 0.57, 0.5579999999999999, 0.589, 0.537, 0.531, 0.603, 0.489, 0.49200000000000005, 0.519, 0.61, 0.536, 0.539, 0.512, 0.484, 0.493, 0.317, 0.56, 0.502, 0.688, 0.49, 0.602, 0.654, 0.64, 0.6409999999999999, 0.682, 0.596, 0.5710000000000001, 1.0, 0.586, 0.555, 0.6, 0.602, 0.5, 0.58, 0.536, 0.48100000000000004, 0.616, 0.514, 0.511, 0.491, 0.6920000000000001, 0.473, 0.557, 0.561, 0.501, 0.52, 0.5329999999999999, 0.63, 0.5670000000000001, 0.633, 0.59, 0.508, 0.599, 0.52, 0.628, 1.5, 0.5820000000000001, 0.535, 0.568, 0.485, 0.444, 0.5329999999999999, 0.585, 0.516, 0.5, 0.529, 0.44299999999999995, 0.547, 0.528, 0.557, 0.37200000000000005, 0.624, 0.43700000000000006, 0.413, 0.48200000000000004, 0.5710000000000001, 0.551, 0.485, 0.5710000000000001, 0.622, 0.377, 0.564, 0.547, 0.504, 0.5670000000000001, 0.698, 0.513, 0.539, 0.561, 0.573, 0.51, 0.5329999999999999, 0.53, 0.5579999999999999, 0.446, 0.527, 0.45, 0.575, 0.597, 0.58, 0.402, 0.35200000000000004, 0.648, 0.501, 0.555, 0.0, 0.564, 0.493, 0.61, 0.55, 0.599, 0.485, 0.5539999999999999, 0.5479999999999999, 0.703, 0.531, 0.515, 0.513, 0.542, 0.5, 0.569, 0.539, 0.611, 0.59], \"y\": [5.3, 1.7, 3.2, 13.9, 8.9, 1.7, 1.0, 21.3, 3.7, 5.6, 10.9, 9.9, 9.4, 3.7, 8.0, 0.0, 27.7, 1.0, 13.4, 7.0, 6.7, 11.7, 16.3, 7.3, 14.9, 1.9, 9.9, 6.2, 10.9, 11.5, 5.0, 9.3, 6.1, 5.6, 11.6, 25.6, 11.3, 7.0, 10.5, 3.3, 8.4, 5.0, 2.8, 8.0, 7.6, 4.8, 4.4, 9.6, 7.3, 15.9, 4.2, 14.1, 18.0, 3.5, 4.7, 0.9, 26.6, 3.3, 5.7, 8.3, 7.5, 3.5, 4.0, 15.6, 7.5, 6.6, 4.3, 13.0, 2.1, 6.4, 4.8, 9.3, 10.5, 2.6, 8.3, 2.3, 11.4, 16.6, 11.1, 4.4, 7.4, 10.3, 9.2, 6.3, 11.9, 2.5, 0.8, 2.0, 0.9, 2.9, 6.7, 16.8, 19.5, 6.6, 11.2, 4.9, 21.1, 6.9, 6.9, 16.3, 9.6, 5.7, 7.9, 11.9, 3.0, 7.9, 27.3, 6.2, 25.9, 4.0, 5.8, 0.0, 10.8, 1.5, 7.1, 21.2, 4.2, 6.0, 3.7, 6.4, 16.8, 4.9, 21.2, 10.7, 3.2, 13.7, 17.3, 4.9, 11.3, 26.0, 1.7, 1.5, 27.5, 1.8, 1.3, 10.2, 6.9, 11.8, 4.0, 4.3, 6.9, 5.9, 7.5, 11.8, 15.1, 17.3, 1.5, 3.7, 3.6, 8.2, 19.8, 8.4, 6.5, 13.7, 28.0, 10.8, 7.0, 10.8, 15.9, 1.4, 16.0, 16.2, 5.0, 4.7, 5.3, 13.6, 4.2, 0.0, 10.3, 7.4, 9.2, 12.3, 24.5, 3.0, 4.0, 36.1, 7.7, 16.6, 6.3, 12.9, 13.7, 6.5, 7.8, 1.9, 2.5, 11.5, 5.6, 5.8, 7.3, 8.8, 4.0, 20.7, 1.8, 3.6, 4.3, 5.9, 21.2, 8.9, 8.2, 13.6, 9.4, 12.8, 9.7, 3.0, 17.0, 5.2, 15.0, 5.7, 6.8, 12.1, 0.0, 18.3, 23.8, 9.6, 5.0, 3.7, 8.1, 13.8, 11.5, 15.4, 27.4, 2.3, 6.3, 0.9, 3.9, 7.8, 20.1, 5.4, 7.0, 5.1, 4.5, 1.0, 6.9, 6.5, 8.6, 9.7, 6.7, 6.8, 12.8, 5.8, 7.0, 3.7, 8.5, 18.7, 15.3, 23.7, 7.6, 3.9, 4.9, 14.3, 11.1, 26.6, 5.9, 3.8, 13.7, 25.8, 4.0, 0.0, 6.3, 12.5, 9.5, 17.0, 14.2, 2.4, 2.0, 0.9, 8.5, 2.5, 3.6, 3.0, 4.1, 18.7, 2.7, 5.1, 1.0, 5.0, 4.0, 21.0, 6.4, 7.3, 12.0, 7.6, 4.7, 3.9, 5.9, 6.4, 3.9, 5.0, 1.8, 18.3, 8.2, 3.5, 9.9, 12.6, 4.4, 23.8, 1.1, 8.9, 11.9, 2.5, 13.9, 10.4, 2.0, 4.6, 14.8, 18.2, 2.1, 4.0, 9.4, 9.4, 5.3, 4.0, 7.1, 4.9, 7.3, 5.7, 15.6, 6.5, 5.2, 3.5, 3.3, 8.2, 5.7, 7.7, 18.8, 10.0, 13.0, 3.9, 9.5, 7.5, 3.6, 1.7, 15.6, 10.6, 3.7, 4.5, 7.8, 4.4, 5.5, 1.8, 10.6, 8.6, 5.1, 2.0, 5.8, 5.5, 21.4, 18.1, 1.2, 5.0, 16.6, 1.4, 6.7, 3.3, 4.2, 3.4, 7.3, 9.2, 18.0, 15.1, 9.0, 12.7, 21.1, 14.1, 5.1, 20.0, 8.9, 15.5, 3.8, 16.7, 16.9, 3.0, 16.9, 3.8, 8.9, 8.9, 6.7, 6.7, 6.0, 5.9, 2.0, 7.2, 2.9, 15.7, 12.1, 3.2, 2.2, 5.7, 8.1, 2.3, 4.5, 21.5, 10.9, 1.0, 5.0, 24.4, 2.7, 10.9, 7.3, 6.8, 13.3, 2.3, 1.4, 11.0, 8.4, 20.8, 15.0, 4.8, 12.0, 25.6, 2.6, 20.7, 3.5, 13.5, 3.9, 18.0, 2.2, 2.6, 1.6, 22.9, 9.9, 0.0, 12.3, 18.1, 3.6, 2.6, 6.5, 6.1, 20.0, 10.1, 2.5, 5.3, 5.8, 12.6, 2.3, 2.3, 12.6, 19.1, 10.1, 7.8], \"z\": [2.1, 3.3, 3.7, 11.1, 9.5, 1.3, 1.5, 11.6, 3.9000000000000004, 1.2999999999999998, 9.8, 6.7, 8.8, 2.3, 8.8, 1.3, 18.4, 0.5, 5.9, 3.5999999999999996, 6.0, 7.8, 12.100000000000001, 3.2, 8.6, 1.7000000000000002, 10.7, 5.8, 8.1, 7.5, 3.4, 8.5, 5.3, 5.800000000000001, 6.199999999999999, 10.5, 3.7, 3.3, 4.2, 3.8000000000000003, 6.9, 5.2, 1.6, 4.8, 8.8, 4.6, 5.199999999999999, 7.699999999999999, 2.5999999999999996, 10.1, 4.1, 7.3, 6.1, 6.0, 4.7, 1.8, 10.899999999999999, 2.1, 5.3, 5.300000000000001, 5.2, 4.1, 2.0, 7.7, 2.6, 2.5, 3.7, 5.6, 2.3, 4.6, 4.3, 5.5, 7.6, 1.2, 6.1, 3.5, 4.2, 14.1, 6.5, 3.5, 3.7, 8.8, 5.800000000000001, 3.9000000000000004, 10.8, 1.8, 0.7999999999999999, 1.0, 1.2, 2.6999999999999997, 3.1, 5.699999999999999, 11.8, 5.1000000000000005, 9.1, 4.2, 9.8, 6.2, 3.7, 11.799999999999999, 4.5, 4.5, 4.9, 6.5, 3.7, 2.5, 10.5, 1.9, 15.9, 4.6, 9.4, 1.0, 8.9, 2.0, 4.1, 12.2, 1.3, 5.7, 2.1999999999999997, 5.0, 7.0, 3.5, 13.8, 5.4, 3.5999999999999996, 7.9, 17.0, 4.0, 10.1, 12.3, 1.0, 1.0, 17.3, 1.8, 1.6, 5.3, 4.2, 8.6, 4.2, 2.6, 2.9, 3.4, 6.0, 5.0, 6.800000000000001, 11.1, 0.6, 2.5, 2.0, 6.800000000000001, 8.7, 3.2, 2.6, 9.4, 12.299999999999999, 7.7, 5.3, 6.1, 14.9, 1.1, 11.100000000000001, 4.1, 7.0, 4.0, 4.1, 6.2, 4.2, 0.0, 5.6, 14.2, 3.0, 5.8, 12.9, 3.7, 3.0, 14.1, 5.7, 8.5, 3.4000000000000004, 5.0, 6.199999999999999, 4.9, 5.1, 2.2, 2.9000000000000004, 7.9, 6.1, 4.6, 6.4, 5.6, 3.0, 7.5, 1.4, 3.5, 4.3, 3.0, 12.7, 6.9, 5.6000000000000005, 10.9, 4.6, 9.6, 6.199999999999999, 2.2, 6.0, 5.0, 9.4, 6.9, 5.3, 9.7, 0.5, 8.1, 11.9, 6.6, 3.8000000000000003, 1.3, 3.3000000000000003, 5.800000000000001, 6.7, 6.800000000000001, 16.8, 2.1, 5.2, 1.5, 4.1, 5.7, 18.1, 4.3, 4.6, 2.5, 10.399999999999999, 2.0, 6.8, 7.3, 4.8, 4.7, 4.8, 5.6, 5.6, 3.3000000000000003, 4.1, 5.1000000000000005, 4.7, 8.0, 7.7, 9.2, 3.8, 2.6, 2.4, 9.5, 6.6, 10.6, 5.0, 2.6999999999999997, 7.699999999999999, 11.5, 3.6, 0.0, 6.7, 6.1000000000000005, 5.1, 13.100000000000001, 13.5, 1.3, 4.0, 0.8999999999999999, 5.199999999999999, 0.8, 2.4, 2.5, 4.5, 10.4, 2.1, 3.3000000000000003, 1.5, 2.3, 1.0, 7.0, 5.699999999999999, 2.3, 8.2, 5.3, 3.8, 1.1, 2.6, 2.5, 4.6, 5.9, 1.6, 10.3, 4.0, 0.6, 5.2, 9.2, 2.7, 8.3, 1.5, 3.5, 4.3, 2.3, 7.6, 6.0, 1.3, 2.8, 7.199999999999999, 9.0, 0.8, 2.1999999999999997, 11.399999999999999, 4.4, 4.2, 2.1, 7.800000000000001, 4.8, 3.8, 4.8, 13.600000000000001, 4.300000000000001, 5.0, 3.8, 1.9, 5.4, 4.2, 4.1, 10.8, 6.5, 7.300000000000001, 5.2, 5.2, 4.5, 2.8, 3.0, 12.799999999999999, 12.8, 2.0, 3.2, 9.4, 3.1, 6.5, 1.4, 6.8, 3.8, 4.4, 0.0, 5.300000000000001, 3.1, 11.799999999999999, 5.1, 0.8999999999999999, 2.3, 7.699999999999999, 0.6, 3.8, 1.6, 1.9, 1.7999999999999998, 7.0, 13.3, 7.0, 5.2, 6.8, 9.7, 10.9, 12.200000000000001, 1.8, 9.0, 8.5, 7.699999999999999, 3.0, 5.9, 10.0, 0.0, 16.5, 1.4, 6.9, 6.2, 3.5, 3.9000000000000004, 3.0, 5.2, 0.0, 5.300000000000001, 1.4, 8.1, 10.7, 3.2, 1.3, 4.4, 3.0, 1.1, 3.1, 6.199999999999999, 12.2, 1.0, 3.4000000000000004, 15.8, 1.0, 5.0, 7.0, 8.4, 8.8, 2.3, 1.5999999999999999, 7.4, 9.7, 15.8, 8.2, 2.6, 5.4, 10.3, 1.5, 12.299999999999999, 2.3, 5.7, 2.7, 5.5, 3.0999999999999996, 2.6, 0.9, 21.799999999999997, 7.6, 0.7, 12.100000000000001, 7.3, 4.3999999999999995, 1.3, 4.6, 6.6, 8.4, 6.6000000000000005, 2.7, 3.3, 5.699999999999999, 9.7, 1.7000000000000002, 0.8, 9.0, 11.8, 8.9, 6.300000000000001]}],\n",
       "                        {\"coloraxis\": {\"colorbar\": {\"title\": {\"text\": \"color\"}}, \"colorscale\": [[0.0, \"rgb(12,51,131)\"], [0.25, \"rgb(10,136,186)\"], [0.5, \"rgb(242,211,56)\"], [0.75, \"rgb(242,143,56)\"], [1.0, \"rgb(217,30,30)\"]]}, \"height\": 1000, \"legend\": {\"tracegroupgap\": 0}, \"margin\": {\"t\": 60}, \"scene\": {\"domain\": {\"x\": [0.0, 1.0], \"y\": [0.0, 1.0]}, \"xaxis\": {\"title\": {\"text\": \"TS\"}}, \"yaxis\": {\"title\": {\"text\": \"PTS\"}}, \"zaxis\": {\"title\": {\"text\": \"RA\"}}}, \"template\": {\"data\": {\"bar\": [{\"error_x\": {\"color\": \"#2a3f5f\"}, \"error_y\": {\"color\": \"#2a3f5f\"}, \"marker\": {\"line\": {\"color\": \"#E5ECF6\", \"width\": 0.5}}, \"type\": \"bar\"}], \"barpolar\": [{\"marker\": {\"line\": {\"color\": \"#E5ECF6\", \"width\": 0.5}}, \"type\": \"barpolar\"}], \"carpet\": [{\"aaxis\": {\"endlinecolor\": \"#2a3f5f\", \"gridcolor\": \"white\", \"linecolor\": \"white\", \"minorgridcolor\": \"white\", \"startlinecolor\": \"#2a3f5f\"}, \"baxis\": {\"endlinecolor\": \"#2a3f5f\", \"gridcolor\": \"white\", \"linecolor\": \"white\", \"minorgridcolor\": \"white\", \"startlinecolor\": \"#2a3f5f\"}, \"type\": \"carpet\"}], \"choropleth\": [{\"colorbar\": {\"outlinewidth\": 0, \"ticks\": \"\"}, \"type\": \"choropleth\"}], \"contour\": [{\"colorbar\": {\"outlinewidth\": 0, \"ticks\": \"\"}, \"colorscale\": [[0.0, \"#0d0887\"], [0.1111111111111111, \"#46039f\"], [0.2222222222222222, \"#7201a8\"], [0.3333333333333333, \"#9c179e\"], [0.4444444444444444, \"#bd3786\"], [0.5555555555555556, \"#d8576b\"], [0.6666666666666666, \"#ed7953\"], [0.7777777777777778, \"#fb9f3a\"], [0.8888888888888888, \"#fdca26\"], [1.0, \"#f0f921\"]], \"type\": \"contour\"}], \"contourcarpet\": [{\"colorbar\": {\"outlinewidth\": 0, \"ticks\": \"\"}, \"type\": \"contourcarpet\"}], \"heatmap\": [{\"colorbar\": {\"outlinewidth\": 0, \"ticks\": \"\"}, \"colorscale\": [[0.0, \"#0d0887\"], [0.1111111111111111, \"#46039f\"], [0.2222222222222222, \"#7201a8\"], [0.3333333333333333, \"#9c179e\"], [0.4444444444444444, \"#bd3786\"], [0.5555555555555556, \"#d8576b\"], [0.6666666666666666, \"#ed7953\"], [0.7777777777777778, \"#fb9f3a\"], [0.8888888888888888, \"#fdca26\"], [1.0, \"#f0f921\"]], \"type\": \"heatmap\"}], \"heatmapgl\": [{\"colorbar\": {\"outlinewidth\": 0, \"ticks\": \"\"}, \"colorscale\": [[0.0, \"#0d0887\"], [0.1111111111111111, \"#46039f\"], [0.2222222222222222, \"#7201a8\"], [0.3333333333333333, \"#9c179e\"], [0.4444444444444444, \"#bd3786\"], [0.5555555555555556, \"#d8576b\"], [0.6666666666666666, \"#ed7953\"], [0.7777777777777778, \"#fb9f3a\"], [0.8888888888888888, \"#fdca26\"], [1.0, \"#f0f921\"]], \"type\": \"heatmapgl\"}], \"histogram\": [{\"marker\": {\"colorbar\": {\"outlinewidth\": 0, \"ticks\": \"\"}}, \"type\": \"histogram\"}], \"histogram2d\": [{\"colorbar\": {\"outlinewidth\": 0, \"ticks\": \"\"}, \"colorscale\": [[0.0, \"#0d0887\"], [0.1111111111111111, \"#46039f\"], [0.2222222222222222, \"#7201a8\"], [0.3333333333333333, \"#9c179e\"], [0.4444444444444444, \"#bd3786\"], [0.5555555555555556, \"#d8576b\"], [0.6666666666666666, \"#ed7953\"], [0.7777777777777778, \"#fb9f3a\"], [0.8888888888888888, \"#fdca26\"], [1.0, \"#f0f921\"]], \"type\": \"histogram2d\"}], \"histogram2dcontour\": [{\"colorbar\": {\"outlinewidth\": 0, \"ticks\": \"\"}, \"colorscale\": [[0.0, \"#0d0887\"], [0.1111111111111111, \"#46039f\"], [0.2222222222222222, \"#7201a8\"], [0.3333333333333333, \"#9c179e\"], [0.4444444444444444, \"#bd3786\"], [0.5555555555555556, \"#d8576b\"], [0.6666666666666666, \"#ed7953\"], [0.7777777777777778, \"#fb9f3a\"], [0.8888888888888888, \"#fdca26\"], [1.0, \"#f0f921\"]], \"type\": \"histogram2dcontour\"}], \"mesh3d\": [{\"colorbar\": {\"outlinewidth\": 0, \"ticks\": \"\"}, \"type\": \"mesh3d\"}], \"parcoords\": [{\"line\": {\"colorbar\": {\"outlinewidth\": 0, \"ticks\": \"\"}}, \"type\": \"parcoords\"}], \"pie\": [{\"automargin\": true, \"type\": \"pie\"}], \"scatter\": [{\"marker\": {\"colorbar\": {\"outlinewidth\": 0, \"ticks\": \"\"}}, \"type\": \"scatter\"}], \"scatter3d\": [{\"line\": {\"colorbar\": {\"outlinewidth\": 0, \"ticks\": \"\"}}, \"marker\": {\"colorbar\": {\"outlinewidth\": 0, \"ticks\": \"\"}}, \"type\": \"scatter3d\"}], \"scattercarpet\": [{\"marker\": {\"colorbar\": {\"outlinewidth\": 0, \"ticks\": \"\"}}, \"type\": \"scattercarpet\"}], \"scattergeo\": [{\"marker\": {\"colorbar\": {\"outlinewidth\": 0, \"ticks\": \"\"}}, \"type\": \"scattergeo\"}], \"scattergl\": [{\"marker\": {\"colorbar\": {\"outlinewidth\": 0, \"ticks\": \"\"}}, \"type\": \"scattergl\"}], \"scattermapbox\": [{\"marker\": {\"colorbar\": {\"outlinewidth\": 0, \"ticks\": \"\"}}, \"type\": \"scattermapbox\"}], \"scatterpolar\": [{\"marker\": {\"colorbar\": {\"outlinewidth\": 0, \"ticks\": \"\"}}, \"type\": \"scatterpolar\"}], \"scatterpolargl\": [{\"marker\": {\"colorbar\": {\"outlinewidth\": 0, \"ticks\": \"\"}}, \"type\": \"scatterpolargl\"}], \"scatterternary\": [{\"marker\": {\"colorbar\": {\"outlinewidth\": 0, \"ticks\": \"\"}}, \"type\": \"scatterternary\"}], \"surface\": [{\"colorbar\": {\"outlinewidth\": 0, \"ticks\": \"\"}, \"colorscale\": [[0.0, \"#0d0887\"], [0.1111111111111111, \"#46039f\"], [0.2222222222222222, \"#7201a8\"], [0.3333333333333333, \"#9c179e\"], [0.4444444444444444, \"#bd3786\"], [0.5555555555555556, \"#d8576b\"], [0.6666666666666666, \"#ed7953\"], [0.7777777777777778, \"#fb9f3a\"], [0.8888888888888888, \"#fdca26\"], [1.0, \"#f0f921\"]], \"type\": \"surface\"}], \"table\": [{\"cells\": {\"fill\": {\"color\": \"#EBF0F8\"}, \"line\": {\"color\": \"white\"}}, \"header\": {\"fill\": {\"color\": \"#C8D4E3\"}, \"line\": {\"color\": \"white\"}}, \"type\": \"table\"}]}, \"layout\": {\"annotationdefaults\": {\"arrowcolor\": \"#2a3f5f\", \"arrowhead\": 0, \"arrowwidth\": 1}, \"coloraxis\": {\"colorbar\": {\"outlinewidth\": 0, \"ticks\": \"\"}}, \"colorscale\": {\"diverging\": [[0, \"#8e0152\"], [0.1, \"#c51b7d\"], [0.2, \"#de77ae\"], [0.3, \"#f1b6da\"], [0.4, \"#fde0ef\"], [0.5, \"#f7f7f7\"], [0.6, \"#e6f5d0\"], [0.7, \"#b8e186\"], [0.8, \"#7fbc41\"], [0.9, \"#4d9221\"], [1, \"#276419\"]], \"sequential\": [[0.0, \"#0d0887\"], [0.1111111111111111, \"#46039f\"], [0.2222222222222222, \"#7201a8\"], [0.3333333333333333, \"#9c179e\"], [0.4444444444444444, \"#bd3786\"], [0.5555555555555556, \"#d8576b\"], [0.6666666666666666, \"#ed7953\"], [0.7777777777777778, \"#fb9f3a\"], [0.8888888888888888, \"#fdca26\"], [1.0, \"#f0f921\"]], \"sequentialminus\": [[0.0, \"#0d0887\"], [0.1111111111111111, \"#46039f\"], [0.2222222222222222, \"#7201a8\"], [0.3333333333333333, \"#9c179e\"], [0.4444444444444444, \"#bd3786\"], [0.5555555555555556, \"#d8576b\"], [0.6666666666666666, \"#ed7953\"], [0.7777777777777778, \"#fb9f3a\"], [0.8888888888888888, \"#fdca26\"], [1.0, \"#f0f921\"]]}, \"colorway\": [\"#636efa\", \"#EF553B\", \"#00cc96\", \"#ab63fa\", \"#FFA15A\", \"#19d3f3\", \"#FF6692\", \"#B6E880\", \"#FF97FF\", \"#FECB52\"], \"font\": {\"color\": \"#2a3f5f\"}, \"geo\": {\"bgcolor\": \"white\", \"lakecolor\": \"white\", \"landcolor\": \"#E5ECF6\", \"showlakes\": true, \"showland\": true, \"subunitcolor\": \"white\"}, \"hoverlabel\": {\"align\": \"left\"}, \"hovermode\": \"closest\", \"mapbox\": {\"style\": \"light\"}, \"paper_bgcolor\": \"white\", \"plot_bgcolor\": \"#E5ECF6\", \"polar\": {\"angularaxis\": {\"gridcolor\": \"white\", \"linecolor\": \"white\", \"ticks\": \"\"}, \"bgcolor\": \"#E5ECF6\", \"radialaxis\": {\"gridcolor\": \"white\", \"linecolor\": \"white\", \"ticks\": \"\"}}, \"scene\": {\"xaxis\": {\"backgroundcolor\": \"#E5ECF6\", \"gridcolor\": \"white\", \"gridwidth\": 2, \"linecolor\": \"white\", \"showbackground\": true, \"ticks\": \"\", \"zerolinecolor\": \"white\"}, \"yaxis\": {\"backgroundcolor\": \"#E5ECF6\", \"gridcolor\": \"white\", \"gridwidth\": 2, \"linecolor\": \"white\", \"showbackground\": true, \"ticks\": \"\", \"zerolinecolor\": \"white\"}, \"zaxis\": {\"backgroundcolor\": \"#E5ECF6\", \"gridcolor\": \"white\", \"gridwidth\": 2, \"linecolor\": \"white\", \"showbackground\": true, \"ticks\": \"\", \"zerolinecolor\": \"white\"}}, \"shapedefaults\": {\"line\": {\"color\": \"#2a3f5f\"}}, \"ternary\": {\"aaxis\": {\"gridcolor\": \"white\", \"linecolor\": \"white\", \"ticks\": \"\"}, \"baxis\": {\"gridcolor\": \"white\", \"linecolor\": \"white\", \"ticks\": \"\"}, \"bgcolor\": \"#E5ECF6\", \"caxis\": {\"gridcolor\": \"white\", \"linecolor\": \"white\", \"ticks\": \"\"}}, \"title\": {\"x\": 0.05}, \"xaxis\": {\"automargin\": true, \"gridcolor\": \"white\", \"linecolor\": \"white\", \"ticks\": \"\", \"title\": {\"standoff\": 15}, \"zerolinecolor\": \"white\", \"zerolinewidth\": 2}, \"yaxis\": {\"automargin\": true, \"gridcolor\": \"white\", \"linecolor\": \"white\", \"ticks\": \"\", \"title\": {\"standoff\": 15}, \"zerolinecolor\": \"white\", \"zerolinewidth\": 2}}}, \"width\": 1000},\n",
       "                        {\"responsive\": true}\n",
       "                    ).then(function(){\n",
       "                            \n",
       "var gd = document.getElementById('96909747-6770-4bdb-bf81-07f0826f15b5');\n",
       "var x = new MutationObserver(function (mutations, observer) {{\n",
       "        var display = window.getComputedStyle(gd).display;\n",
       "        if (!display || display === 'none') {{\n",
       "            console.log([gd, 'removed!']);\n",
       "            Plotly.purge(gd);\n",
       "            observer.disconnect();\n",
       "        }}\n",
       "}});\n",
       "\n",
       "// Listen for the removal of the full notebook cells\n",
       "var notebookContainer = gd.closest('#notebook-container');\n",
       "if (notebookContainer) {{\n",
       "    x.observe(notebookContainer, {childList: true});\n",
       "}}\n",
       "\n",
       "// Listen for the clearing of the current output cell\n",
       "var outputEl = gd.closest('.output');\n",
       "if (outputEl) {{\n",
       "    x.observe(outputEl, {childList: true});\n",
       "}}\n",
       "\n",
       "                        })\n",
       "                };\n",
       "                });\n",
       "            </script>\n",
       "        </div>"
      ]
     },
     "metadata": {},
     "output_type": "display_data"
    }
   ],
   "source": [
    "fig = px.scatter_3d(TS_Pts_RA, x='TS', y='PTS', z='RA',\n",
    "              color=kmeans.labels_, width=1000, height=1000, color_continuous_scale='Portland')\n",
    "fig.update_traces(marker=dict(size=5))\n",
    "\n",
    "fig.show()"
   ]
  },
  {
   "cell_type": "markdown",
   "metadata": {},
   "source": [
    "# Subset 2: BPM, "
   ]
  },
  {
   "cell_type": "code",
   "execution_count": 189,
   "metadata": {},
   "outputs": [
    {
     "data": {
      "text/html": [
       "<div>\n",
       "<style scoped>\n",
       "    .dataframe tbody tr th:only-of-type {\n",
       "        vertical-align: middle;\n",
       "    }\n",
       "\n",
       "    .dataframe tbody tr th {\n",
       "        vertical-align: top;\n",
       "    }\n",
       "\n",
       "    .dataframe thead th {\n",
       "        text-align: right;\n",
       "    }\n",
       "</style>\n",
       "<table border=\"1\" class=\"dataframe\">\n",
       "  <thead>\n",
       "    <tr style=\"text-align: right;\">\n",
       "      <th></th>\n",
       "      <th>Rk</th>\n",
       "      <th>Player</th>\n",
       "      <th>Pos</th>\n",
       "      <th>Age</th>\n",
       "      <th>Tm</th>\n",
       "      <th>G</th>\n",
       "      <th>GS</th>\n",
       "      <th>MP</th>\n",
       "      <th>FG</th>\n",
       "      <th>FGA</th>\n",
       "      <th>...</th>\n",
       "      <th>Delta AST%</th>\n",
       "      <th>Delta PTS</th>\n",
       "      <th>Delta TRB</th>\n",
       "      <th>Delta AST</th>\n",
       "      <th>Delta STL</th>\n",
       "      <th>Delta BLK</th>\n",
       "      <th>Opportunity</th>\n",
       "      <th>Impt Deltas</th>\n",
       "      <th>Defensive Ability</th>\n",
       "      <th>Total Mins</th>\n",
       "    </tr>\n",
       "  </thead>\n",
       "  <tbody>\n",
       "    <tr>\n",
       "      <th>5380</th>\n",
       "      <td>3</td>\n",
       "      <td>Jaylen Adams\\adamsja01</td>\n",
       "      <td>PG</td>\n",
       "      <td>22</td>\n",
       "      <td>ATL</td>\n",
       "      <td>34</td>\n",
       "      <td>1</td>\n",
       "      <td>12.6</td>\n",
       "      <td>1.1</td>\n",
       "      <td>3.2</td>\n",
       "      <td>...</td>\n",
       "      <td>NaN</td>\n",
       "      <td>NaN</td>\n",
       "      <td>NaN</td>\n",
       "      <td>NaN</td>\n",
       "      <td>NaN</td>\n",
       "      <td>NaN</td>\n",
       "      <td>NaN</td>\n",
       "      <td>NaN</td>\n",
       "      <td>0.384615</td>\n",
       "      <td>428.4</td>\n",
       "    </tr>\n",
       "    <tr>\n",
       "      <th>5381</th>\n",
       "      <td>4</td>\n",
       "      <td>Steven Adams\\adamsst01</td>\n",
       "      <td>C</td>\n",
       "      <td>25</td>\n",
       "      <td>OKC</td>\n",
       "      <td>80</td>\n",
       "      <td>80</td>\n",
       "      <td>33.4</td>\n",
       "      <td>6.0</td>\n",
       "      <td>10.1</td>\n",
       "      <td>...</td>\n",
       "      <td>1.1</td>\n",
       "      <td>0.0</td>\n",
       "      <td>0.5</td>\n",
       "      <td>0.4</td>\n",
       "      <td>0.3</td>\n",
       "      <td>0.0</td>\n",
       "      <td>-1.4</td>\n",
       "      <td>0.9</td>\n",
       "      <td>0.961538</td>\n",
       "      <td>2672.0</td>\n",
       "    </tr>\n",
       "    <tr>\n",
       "      <th>5382</th>\n",
       "      <td>5</td>\n",
       "      <td>Bam Adebayo\\adebaba01</td>\n",
       "      <td>C</td>\n",
       "      <td>21</td>\n",
       "      <td>MIA</td>\n",
       "      <td>82</td>\n",
       "      <td>28</td>\n",
       "      <td>23.3</td>\n",
       "      <td>3.4</td>\n",
       "      <td>5.9</td>\n",
       "      <td>...</td>\n",
       "      <td>3.2</td>\n",
       "      <td>2.0</td>\n",
       "      <td>1.8</td>\n",
       "      <td>0.7</td>\n",
       "      <td>0.4</td>\n",
       "      <td>0.2</td>\n",
       "      <td>-3.3</td>\n",
       "      <td>4.5</td>\n",
       "      <td>0.680000</td>\n",
       "      <td>1910.6</td>\n",
       "    </tr>\n",
       "    <tr>\n",
       "      <th>5385</th>\n",
       "      <td>8</td>\n",
       "      <td>LaMarcus Aldridge\\aldrila01</td>\n",
       "      <td>C</td>\n",
       "      <td>33</td>\n",
       "      <td>SAS</td>\n",
       "      <td>81</td>\n",
       "      <td>81</td>\n",
       "      <td>33.2</td>\n",
       "      <td>8.4</td>\n",
       "      <td>16.3</td>\n",
       "      <td>...</td>\n",
       "      <td>0.3</td>\n",
       "      <td>-1.8</td>\n",
       "      <td>0.7</td>\n",
       "      <td>0.4</td>\n",
       "      <td>-0.1</td>\n",
       "      <td>0.1</td>\n",
       "      <td>-2.5</td>\n",
       "      <td>-0.7</td>\n",
       "      <td>0.818182</td>\n",
       "      <td>2689.2</td>\n",
       "    </tr>\n",
       "    <tr>\n",
       "      <th>5387</th>\n",
       "      <td>10</td>\n",
       "      <td>Grayson Allen\\allengr01</td>\n",
       "      <td>SG</td>\n",
       "      <td>23</td>\n",
       "      <td>UTA</td>\n",
       "      <td>38</td>\n",
       "      <td>2</td>\n",
       "      <td>10.9</td>\n",
       "      <td>1.8</td>\n",
       "      <td>4.7</td>\n",
       "      <td>...</td>\n",
       "      <td>NaN</td>\n",
       "      <td>NaN</td>\n",
       "      <td>NaN</td>\n",
       "      <td>NaN</td>\n",
       "      <td>NaN</td>\n",
       "      <td>NaN</td>\n",
       "      <td>NaN</td>\n",
       "      <td>NaN</td>\n",
       "      <td>0.333333</td>\n",
       "      <td>414.2</td>\n",
       "    </tr>\n",
       "  </tbody>\n",
       "</table>\n",
       "<p>5 rows × 64 columns</p>\n",
       "</div>"
      ],
      "text/plain": [
       "      Rk                       Player Pos  Age   Tm   G  GS    MP   FG   FGA  \\\n",
       "5380   3       Jaylen Adams\\adamsja01  PG   22  ATL  34   1  12.6  1.1   3.2   \n",
       "5381   4       Steven Adams\\adamsst01   C   25  OKC  80  80  33.4  6.0  10.1   \n",
       "5382   5        Bam Adebayo\\adebaba01   C   21  MIA  82  28  23.3  3.4   5.9   \n",
       "5385   8  LaMarcus Aldridge\\aldrila01   C   33  SAS  81  81  33.2  8.4  16.3   \n",
       "5387  10      Grayson Allen\\allengr01  SG   23  UTA  38   2  10.9  1.8   4.7   \n",
       "\n",
       "      ...  Delta AST%  Delta PTS  Delta TRB  Delta AST  Delta STL  Delta BLK  \\\n",
       "5380  ...         NaN        NaN        NaN        NaN        NaN        NaN   \n",
       "5381  ...         1.1        0.0        0.5        0.4        0.3        0.0   \n",
       "5382  ...         3.2        2.0        1.8        0.7        0.4        0.2   \n",
       "5385  ...         0.3       -1.8        0.7        0.4       -0.1        0.1   \n",
       "5387  ...         NaN        NaN        NaN        NaN        NaN        NaN   \n",
       "\n",
       "      Opportunity  Impt Deltas  Defensive Ability  Total Mins  \n",
       "5380          NaN          NaN           0.384615       428.4  \n",
       "5381         -1.4          0.9           0.961538      2672.0  \n",
       "5382         -3.3          4.5           0.680000      1910.6  \n",
       "5385         -2.5         -0.7           0.818182      2689.2  \n",
       "5387          NaN          NaN           0.333333       414.2  \n",
       "\n",
       "[5 rows x 64 columns]"
      ]
     },
     "execution_count": 189,
     "metadata": {},
     "output_type": "execute_result"
    }
   ],
   "source": [
    "clustering_data.head()"
   ]
  },
  {
   "cell_type": "code",
   "execution_count": 190,
   "metadata": {},
   "outputs": [],
   "source": [
    "subset_2 = pd.DataFrame(data=[clustering_data[\"Delta AST%\"],clustering_data[\"Delta PTS\"],clustering_data[\"Delta TRB\"]], index=['Delta AST','Delta PTS',\"Delta TRB\"])"
   ]
  },
  {
   "cell_type": "code",
   "execution_count": 191,
   "metadata": {},
   "outputs": [],
   "source": [
    "subset_2 = subset_2.transpose()"
   ]
  },
  {
   "cell_type": "code",
   "execution_count": 192,
   "metadata": {},
   "outputs": [],
   "source": [
    "subset_2 = subset_2.dropna()"
   ]
  },
  {
   "cell_type": "code",
   "execution_count": 193,
   "metadata": {},
   "outputs": [],
   "source": [
    "kmeans = KMeans(n_clusters=5)"
   ]
  },
  {
   "cell_type": "code",
   "execution_count": 194,
   "metadata": {},
   "outputs": [
    {
     "data": {
      "text/plain": [
       "KMeans(algorithm='auto', copy_x=True, init='k-means++', max_iter=300,\n",
       "       n_clusters=5, n_init=10, n_jobs=None, precompute_distances='auto',\n",
       "       random_state=None, tol=0.0001, verbose=0)"
      ]
     },
     "execution_count": 194,
     "metadata": {},
     "output_type": "execute_result"
    }
   ],
   "source": [
    "kmeans.fit(subset_2)"
   ]
  },
  {
   "cell_type": "code",
   "execution_count": 195,
   "metadata": {},
   "outputs": [
    {
     "data": {
      "text/plain": [
       "array([[  1.175     ,   4.94545455,   1.95227273],\n",
       "       [-15.12      ,  -4.36      ,  -0.2       ],\n",
       "       [  1.48450704,  -0.08028169,   0.11830986],\n",
       "       [  7.6125    ,   2.665625  ,   1.184375  ],\n",
       "       [ -3.88518519,  -0.42962963,  -0.10555556]])"
      ]
     },
     "execution_count": 195,
     "metadata": {},
     "output_type": "execute_result"
    }
   ],
   "source": [
    "kmeans.cluster_centers_"
   ]
  },
  {
   "cell_type": "code",
   "execution_count": 196,
   "metadata": {},
   "outputs": [
    {
     "data": {
      "text/plain": [
       "array([2, 2, 2, 0, 3, 2, 2, 3, 2, 0, 2, 4, 4, 1, 4, 0, 0, 0, 4, 2, 0, 2,\n",
       "       0, 3, 0, 1, 2, 3, 0, 4, 0, 4, 2, 4, 0, 2, 2, 3, 2, 4, 4, 2, 3, 4,\n",
       "       3, 2, 2, 0, 2, 2, 4, 0, 4, 4, 4, 2, 0, 1, 4, 2, 0, 2, 4, 0, 2, 3,\n",
       "       0, 4, 3, 0, 2, 0, 2, 4, 0, 2, 4, 2, 2, 4, 2, 0, 4, 0, 4, 2, 3, 0,\n",
       "       2, 0, 4, 3, 4, 4, 4, 0, 2, 2, 4, 2, 0, 2, 2, 4, 4, 2, 4, 3, 3, 3,\n",
       "       2, 2, 2, 2, 0, 2, 4, 0, 0, 2, 0, 2, 4, 2, 3, 4, 4, 2, 2, 0, 4, 2,\n",
       "       0, 0, 0, 2, 2, 2, 4, 0, 4, 2, 2, 1, 3, 4, 3, 2, 3, 4, 2, 4, 0, 3,\n",
       "       4, 3, 2, 2, 2, 0, 3, 0, 4, 3, 4, 0, 2, 2, 3, 3, 2, 1, 0, 4, 4, 4,\n",
       "       2, 4, 2, 3, 2, 3, 4, 3, 2, 3, 2, 2, 0, 4, 0, 4, 4, 2, 4, 3, 4, 2,\n",
       "       3, 2, 0, 3, 4, 2, 3, 0], dtype=int32)"
      ]
     },
     "execution_count": 196,
     "metadata": {},
     "output_type": "execute_result"
    }
   ],
   "source": [
    "kmeans.labels_"
   ]
  },
  {
   "cell_type": "code",
   "execution_count": 200,
   "metadata": {},
   "outputs": [
    {
     "data": {
      "text/html": [
       "<div>\n",
       "<style scoped>\n",
       "    .dataframe tbody tr th:only-of-type {\n",
       "        vertical-align: middle;\n",
       "    }\n",
       "\n",
       "    .dataframe tbody tr th {\n",
       "        vertical-align: top;\n",
       "    }\n",
       "\n",
       "    .dataframe thead th {\n",
       "        text-align: right;\n",
       "    }\n",
       "</style>\n",
       "<table border=\"1\" class=\"dataframe\">\n",
       "  <thead>\n",
       "    <tr style=\"text-align: right;\">\n",
       "      <th></th>\n",
       "      <th>Delta AST</th>\n",
       "      <th>Delta PTS</th>\n",
       "      <th>Delta TRB</th>\n",
       "    </tr>\n",
       "  </thead>\n",
       "  <tbody>\n",
       "    <tr>\n",
       "      <th>5381</th>\n",
       "      <td>1.1</td>\n",
       "      <td>0.0</td>\n",
       "      <td>0.5</td>\n",
       "    </tr>\n",
       "    <tr>\n",
       "      <th>5382</th>\n",
       "      <td>3.2</td>\n",
       "      <td>2.0</td>\n",
       "      <td>1.8</td>\n",
       "    </tr>\n",
       "    <tr>\n",
       "      <th>5385</th>\n",
       "      <td>0.3</td>\n",
       "      <td>-1.8</td>\n",
       "      <td>0.7</td>\n",
       "    </tr>\n",
       "    <tr>\n",
       "      <th>5388</th>\n",
       "      <td>2.5</td>\n",
       "      <td>2.7</td>\n",
       "      <td>3.0</td>\n",
       "    </tr>\n",
       "    <tr>\n",
       "      <th>5389</th>\n",
       "      <td>13.5</td>\n",
       "      <td>8.8</td>\n",
       "      <td>2.1</td>\n",
       "    </tr>\n",
       "  </tbody>\n",
       "</table>\n",
       "</div>"
      ],
      "text/plain": [
       "      Delta AST  Delta PTS  Delta TRB\n",
       "5381        1.1        0.0        0.5\n",
       "5382        3.2        2.0        1.8\n",
       "5385        0.3       -1.8        0.7\n",
       "5388        2.5        2.7        3.0\n",
       "5389       13.5        8.8        2.1"
      ]
     },
     "execution_count": 200,
     "metadata": {},
     "output_type": "execute_result"
    }
   ],
   "source": [
    "subset_2.head()"
   ]
  },
  {
   "cell_type": "markdown",
   "metadata": {},
   "source": [
    "## Static 3D graph"
   ]
  },
  {
   "cell_type": "code",
   "execution_count": 205,
   "metadata": {},
   "outputs": [
    {
     "data": {
      "image/png": "[encoded data removed]",
      "text/plain": [
       "<Figure size 1440x1440 with 1 Axes>"
      ]
     },
     "metadata": {
      "needs_background": "light"
     },
     "output_type": "display_data"
    }
   ],
   "source": [
    "rcParams['figure.figsize'] = 20,20\n",
    "fig = plt.figure()\n",
    "ax = fig.add_subplot(111, projection='3d')\n",
    "\n",
    "x = subset_2[\"Delta TRB\"]\n",
    "y = subset_2[\"Delta PTS\"]\n",
    "z = subset_2[\"Delta AST\"]\n",
    "\n",
    "\n",
    "\n",
    "ax.scatter(x, y, z, c=kmeans.labels_, cmap='rainbow', s=50, marker='o')\n",
    "\n",
    "ax.set_xlabel('Delta Assist')\n",
    "ax.set_ylabel('Delta Points')\n",
    "ax.set_zlabel('Delta Rebounds')\n",
    "\n",
    "plt.show()"
   ]
  },
  {
   "cell_type": "code",
   "execution_count": 206,
   "metadata": {},
   "outputs": [
    {
     "data": {
      "application/vnd.plotly.v1+json": {
       "config": {
        "plotlyServerURL": "https://plot.ly"
       },
       "data": [
        {
         "hoverlabel": {
          "namelength": 0
         },
         "hovertemplate": "Delta AST=%{x}<br>Delta PTS=%{y}<br>Delta TRB=%{z}<br>color=%{marker.color}",
         "legendgroup": "",
         "marker": {
          "color": [
           2,
           2,
           2,
           0,
           3,
           2,
           2,
           3,
           2,
           0,
           2,
           4,
           4,
           1,
           4,
           0,
           0,
           0,
           4,
           2,
           0,
           2,
           0,
           3,
           0,
           1,
           2,
           3,
           0,
           4,
           0,
           4,
           2,
           4,
           0,
           2,
           2,
           3,
           2,
           4,
           4,
           2,
           3,
           4,
           3,
           2,
           2,
           0,
           2,
           2,
           4,
           0,
           4,
           4,
           4,
           2,
           0,
           1,
           4,
           2,
           0,
           2,
           4,
           0,
           2,
           3,
           0,
           4,
           3,
           0,
           2,
           0,
           2,
           4,
           0,
           2,
           4,
           2,
           2,
           4,
           2,
           0,
           4,
           0,
           4,
           2,
           3,
           0,
           2,
           0,
           4,
           3,
           4,
           4,
           4,
           0,
           2,
           2,
           4,
           2,
           0,
           2,
           2,
           4,
           4,
           2,
           4,
           3,
           3,
           3,
           2,
           2,
           2,
           2,
           0,
           2,
           4,
           0,
           0,
           2,
           0,
           2,
           4,
           2,
           3,
           4,
           4,
           2,
           2,
           0,
           4,
           2,
           0,
           0,
           0,
           2,
           2,
           2,
           4,
           0,
           4,
           2,
           2,
           1,
           3,
           4,
           3,
           2,
           3,
           4,
           2,
           4,
           0,
           3,
           4,
           3,
           2,
           2,
           2,
           0,
           3,
           0,
           4,
           3,
           4,
           0,
           2,
           2,
           3,
           3,
           2,
           1,
           0,
           4,
           4,
           4,
           2,
           4,
           2,
           3,
           2,
           3,
           4,
           3,
           2,
           3,
           2,
           2,
           0,
           4,
           0,
           4,
           4,
           2,
           4,
           3,
           4,
           2,
           3,
           2,
           0,
           3,
           4,
           2,
           3,
           0
          ],
          "coloraxis": "coloraxis",
          "size": 5,
          "symbol": "circle"
         },
         "mode": "markers",
         "name": "",
         "scene": "scene",
         "showlegend": false,
         "type": "scatter3d",
         "x": [
          1.0999999999999996,
          3.1999999999999993,
          0.29999999999999893,
          2.5,
          13.5,
          0.20000000000000018,
          0.3000000000000007,
          6.600000000000001,
          -0.2999999999999998,
          3.3999999999999986,
          2.5,
          -5.399999999999999,
          -3.9000000000000004,
          -11.7,
          -6.600000000000001,
          3.1000000000000014,
          0.09999999999999964,
          -1.200000000000001,
          -2.1000000000000014,
          4.599999999999998,
          2.4000000000000004,
          1,
          2.4000000000000004,
          9.700000000000003,
          -0.10000000000000142,
          -14.899999999999999,
          -0.7999999999999998,
          6.199999999999999,
          -2.1999999999999993,
          -1.9000000000000004,
          1.3999999999999995,
          -3.3,
          -0.3999999999999986,
          -1.3999999999999986,
          2.0999999999999996,
          0,
          3.5,
          11.2,
          3.9000000000000004,
          -1.4000000000000021,
          -2.6000000000000005,
          0.8999999999999995,
          10.8,
          -6.100000000000001,
          8.2,
          2.1,
          -1.0999999999999996,
          -3.5999999999999996,
          2.6000000000000014,
          2.8000000000000007,
          -9.399999999999999,
          0.9000000000000004,
          -7.1000000000000005,
          -6.4,
          -3.299999999999997,
          0.6999999999999993,
          0.3999999999999986,
          -13.7,
          -5.599999999999998,
          0.20000000000000018,
          1.4,
          3.5,
          -1.5,
          2.8,
          2.8000000000000007,
          8.600000000000001,
          4.299999999999999,
          -2.8,
          4.899999999999999,
          3.1999999999999993,
          2.0999999999999996,
          2.6999999999999993,
          4.900000000000002,
          -2.299999999999999,
          -0.8999999999999995,
          -1.2000000000000002,
          -2.1999999999999993,
          -0.20000000000000018,
          1.1999999999999993,
          -5.600000000000001,
          1.0999999999999996,
          2.4000000000000004,
          -2,
          1.700000000000001,
          -8.1,
          -0.5999999999999996,
          18.4,
          -0.6000000000000005,
          1.5,
          -0.9000000000000004,
          -6.800000000000001,
          6.900000000000002,
          -2.5,
          -4.4,
          -2.400000000000002,
          3.3,
          0.6000000000000014,
          3.200000000000003,
          -4.799999999999999,
          4.300000000000001,
          0.9000000000000004,
          0.10000000000000053,
          4,
          -8.099999999999998,
          -5,
          4.3999999999999995,
          -5.5,
          7.399999999999999,
          5.799999999999999,
          7.100000000000001,
          4.599999999999998,
          -0.3999999999999986,
          1.5,
          0.39999999999999947,
          3.999999999999999,
          2.4000000000000004,
          -3.5,
          4,
          -3.8000000000000007,
          -0.5,
          -1.3000000000000007,
          0.20000000000000018,
          -2.8000000000000007,
          -0.29999999999999716,
          4.9,
          -5.8999999999999995,
          -3.5,
          3.8999999999999986,
          1.200000000000001,
          0.7999999999999998,
          -2,
          0.1999999999999993,
          -3.2,
          1.9000000000000004,
          1.2999999999999998,
          2.400000000000002,
          2.9000000000000004,
          1.6000000000000014,
          -3.3000000000000007,
          1.8000000000000007,
          -2.599999999999998,
          -0.5999999999999996,
          -0.5999999999999996,
          -19.500000000000004,
          6,
          -3.9000000000000004,
          6.600000000000001,
          -0.39999999999999947,
          6.199999999999999,
          -2,
          4,
          -7.299999999999999,
          3.4000000000000004,
          5.099999999999998,
          -1.6000000000000014,
          5.1,
          4.6,
          4.3,
          2.1999999999999993,
          -0.20000000000000107,
          5.1,
          0,
          -2.1999999999999993,
          4.699999999999999,
          -6.700000000000003,
          0.5999999999999996,
          0.1999999999999993,
          3.700000000000003,
          5.599999999999994,
          5.5,
          -0.1999999999999993,
          -15.800000000000004,
          1.0999999999999996,
          -3.1999999999999957,
          -4.599999999999998,
          -3,
          0.20000000000000018,
          -1.3000000000000007,
          1.6999999999999993,
          7,
          -0.6999999999999993,
          6.8999999999999995,
          -2,
          6.399999999999999,
          0,
          11.200000000000001,
          1,
          1.0999999999999979,
          2,
          -3.400000000000002,
          2,
          -5.299999999999997,
          -2.8000000000000007,
          0.5,
          -3.299999999999997,
          11.7,
          -1.3000000000000007,
          2.700000000000001,
          6.699999999999999,
          -0.9000000000000004,
          1.5,
          8.899999999999999,
          -1.8000000000000007,
          3.5,
          4.699999999999999,
          3.9000000000000004
         ],
         "y": [
          0,
          2,
          -1.8000000000000007,
          2.700000000000001,
          8.8,
          0.09999999999999964,
          0.09999999999999964,
          0.8000000000000007,
          1.0999999999999996,
          4.7,
          1.5,
          -0.29999999999999893,
          -4.199999999999999,
          -2.299999999999999,
          -1.3000000000000007,
          3,
          8.100000000000001,
          3.2,
          2.0999999999999996,
          -4.6,
          2.8,
          2.299999999999999,
          3.6999999999999993,
          1.7000000000000028,
          2.5999999999999996,
          -13.500000000000002,
          -1.5,
          2.4000000000000004,
          9,
          -2,
          2.700000000000001,
          -2.4000000000000004,
          2,
          -0.9000000000000004,
          9,
          2.1999999999999993,
          -1.200000000000001,
          4,
          1.5,
          -2.5999999999999996,
          -3.5999999999999996,
          1.5,
          -2.4000000000000004,
          0.9000000000000021,
          -2.200000000000003,
          0.5,
          0.8000000000000007,
          5.1,
          -1.8000000000000007,
          0.5,
          4.200000000000001,
          6.6,
          2.3000000000000007,
          1.7000000000000002,
          -2.0999999999999996,
          -0.3999999999999986,
          4.600000000000001,
          -9.2,
          -1.1999999999999993,
          -0.5,
          3.8000000000000003,
          -4.299999999999999,
          1.5999999999999996,
          4.9,
          -2.700000000000001,
          5.700000000000001,
          4.5,
          2.2,
          2.1999999999999993,
          6.100000000000001,
          -1.3999999999999986,
          2.4000000000000004,
          -1.6000000000000014,
          -1.8000000000000007,
          5.199999999999999,
          1.700000000000001,
          -3.5999999999999996,
          -2.9000000000000004,
          1.5,
          5.700000000000003,
          1.2000000000000002,
          5.600000000000001,
          -4.6,
          2.8999999999999986,
          -0.09999999999999964,
          -0.10000000000000053,
          9.5,
          2.5,
          -0.7999999999999989,
          7.199999999999999,
          1.9,
          2.1999999999999993,
          -5,
          1.6999999999999993,
          0.6999999999999993,
          2.4000000000000004,
          -0.2999999999999998,
          0.5999999999999996,
          2.1999999999999993,
          -0.5999999999999979,
          4.199999999999999,
          1.2999999999999998,
          -1.5999999999999996,
          0.8000000000000007,
          -0.10000000000000142,
          0.5,
          -3.000000000000001,
          1.6000000000000014,
          3.7,
          1.8000000000000007,
          -1.4000000000000004,
          2.0999999999999996,
          -2.499999999999999,
          1.3999999999999995,
          4.199999999999999,
          2.599999999999998,
          2.4000000000000004,
          7,
          6.6,
          2.5999999999999996,
          10.400000000000002,
          -1.6000000000000005,
          1.5999999999999996,
          -1.0999999999999979,
          2.3,
          -0.5,
          -2.3000000000000007,
          -2,
          -1.4000000000000004,
          3.5,
          -0.3999999999999986,
          0.10000000000000053,
          7.2,
          2.5,
          3.2,
          -1.8000000000000007,
          0.39999999999999947,
          -0.09999999999999964,
          -2,
          3.3000000000000007,
          2.2,
          -0.5999999999999996,
          0.3000000000000007,
          7.1000000000000005,
          1.5,
          3,
          5.3999999999999995,
          0.5,
          1.299999999999999,
          0.20000000000000018,
          -4.300000000000001,
          -1.5,
          9.1,
          1.7999999999999998,
          -3.0000000000000018,
          0.7000000000000002,
          -1.4000000000000004,
          -0.19999999999999996,
          2.0999999999999996,
          3.0999999999999996,
          4.1,
          5.299999999999997,
          1,
          3.700000000000001,
          0.8999999999999986,
          6.4,
          -2.3000000000000007,
          -0.40000000000000036,
          5.600000000000001,
          2.5,
          1.7000000000000002,
          -3.8999999999999986,
          9.599999999999998,
          1.0999999999999979,
          -1.299999999999999,
          -2,
          -0.9000000000000004,
          -1.9999999999999991,
          1.799999999999999,
          -2.0999999999999996,
          1.5,
          5.1000000000000005,
          -3.9000000000000004,
          3.099999999999998,
          1.2000000000000002,
          -1.3999999999999995,
          0.6000000000000014,
          2.4000000000000004,
          4.300000000000001,
          -2.3000000000000007,
          3.5,
          1.3000000000000007,
          -0.5999999999999996,
          -1.6000000000000014,
          -2.5,
          6.7,
          -1.6999999999999993,
          0.40000000000000213,
          -2.6000000000000014,
          0.5999999999999996,
          4.8,
          4.8,
          -0.10000000000000009,
          0.7999999999999989,
          3,
          4.1
         ],
         "z": [
          0.5,
          1.7999999999999998,
          0.6999999999999993,
          3,
          2.1,
          -0.09999999999999964,
          0.39999999999999947,
          2.5,
          0.3999999999999999,
          1.7000000000000002,
          0.3999999999999999,
          -1.6000000000000005,
          -0.40000000000000036,
          0.40000000000000036,
          0.10000000000000009,
          0.5999999999999996,
          1.4,
          1.6000000000000005,
          1.5,
          0.9000000000000004,
          1.7000000000000002,
          0.6000000000000001,
          0.6999999999999997,
          -0.40000000000000036,
          1.2000000000000002,
          -1.4,
          -0.7000000000000002,
          0.6000000000000001,
          5.199999999999999,
          -2.3000000000000003,
          1.8999999999999986,
          -1.3999999999999995,
          0,
          1.4000000000000004,
          2.500000000000001,
          0.9000000000000004,
          0.5,
          1.1,
          2.2,
          -0.3999999999999999,
          -0.8999999999999999,
          0.20000000000000018,
          0.10000000000000009,
          0.20000000000000018,
          0.9000000000000004,
          1.1999999999999993,
          -0.40000000000000036,
          3.3,
          2.1,
          -0.5,
          -0.8000000000000003,
          1.7000000000000002,
          -0.40000000000000036,
          0.6000000000000001,
          -0.20000000000000018,
          -0.39999999999999947,
          2.5999999999999996,
          -2.1999999999999997,
          -0.2999999999999998,
          0.20000000000000018,
          1.0999999999999999,
          -1.5,
          1.1999999999999997,
          1.5,
          0,
          1,
          1.2999999999999998,
          0.5,
          1.7000000000000002,
          2.499999999999999,
          -0.5999999999999996,
          2.200000000000001,
          -0.5,
          -0.2999999999999998,
          1.3000000000000003,
          0.3999999999999999,
          -0.2999999999999998,
          -0.7000000000000002,
          0.7999999999999998,
          1.1999999999999993,
          1.7999999999999998,
          2.5,
          0.19999999999999973,
          0.5,
          0.2999999999999998,
          -0.5,
          3.5,
          1.5999999999999996,
          0.39999999999999947,
          1.2000000000000002,
          0,
          0.5,
          -1.5,
          0.2999999999999998,
          -0.7000000000000002,
          1.7999999999999998,
          -0.09999999999999964,
          -0.20000000000000018,
          -0.20000000000000018,
          1.2000000000000002,
          1.7999999999999998,
          0.5,
          -0.1999999999999993,
          -0.19999999999999973,
          -0.09999999999999964,
          0.6000000000000001,
          -1.7000000000000002,
          0.10000000000000142,
          2.2,
          0.3999999999999999,
          0.19999999999999973,
          0.5,
          -0.2999999999999998,
          1.2999999999999998,
          1.4000000000000001,
          -0.7999999999999998,
          1.4000000000000004,
          0.8000000000000003,
          2.6,
          -2,
          2.5999999999999996,
          -1.6,
          0.09999999999999964,
          0.09999999999999964,
          1.9000000000000004,
          0.9000000000000004,
          -0.6000000000000001,
          -0.7999999999999998,
          -1,
          1.5,
          0,
          -0.7000000000000002,
          4.9,
          1.8,
          2.9,
          0.7999999999999998,
          -0.10000000000000009,
          0.30000000000000027,
          0.7999999999999998,
          0.39999999999999947,
          0.8999999999999999,
          -0.5,
          0.6999999999999993,
          1.7,
          0.5,
          0.5,
          3.7,
          -1.3999999999999995,
          1.4000000000000004,
          0.10000000000000009,
          0.39999999999999947,
          -1,
          2.7,
          -0.19999999999999996,
          -0.8000000000000007,
          1,
          0.5,
          -0.29999999999999993,
          -0.2999999999999998,
          0.5999999999999999,
          2.9000000000000004,
          0.6999999999999993,
          -0.10000000000000009,
          0.10000000000000009,
          1.2999999999999998,
          0.5,
          -0.8000000000000003,
          -0.9999999999999996,
          0,
          1.6000000000000005,
          0.2999999999999998,
          0.5,
          2.4000000000000004,
          0.7000000000000011,
          -0.6000000000000001,
          -0.10000000000000009,
          0.20000000000000018,
          -2,
          1,
          -0.5,
          0,
          3.5999999999999996,
          -0.3999999999999999,
          0.09999999999999964,
          0.20000000000000018,
          1.4,
          0.7999999999999998,
          0.20000000000000018,
          2.8000000000000007,
          0,
          1.3000000000000003,
          -0.10000000000000009,
          -1.1,
          -1.0999999999999996,
          1,
          2.2,
          -0.09999999999999964,
          0.39999999999999947,
          0.5,
          0.7000000000000002,
          4.1,
          0,
          -0.30000000000000004,
          0.20000000000000018,
          1.3999999999999995,
          3.5000000000000004
         ]
        }
       ],
       "layout": {
        "coloraxis": {
         "colorbar": {
          "title": {
           "text": "color"
          }
         },
         "colorscale": [
          [
           0,
           "rgb(12,51,131)"
          ],
          [
           0.25,
           "rgb(10,136,186)"
          ],
          [
           0.5,
           "rgb(242,211,56)"
          ],
          [
           0.75,
           "rgb(242,143,56)"
          ],
          [
           1,
           "rgb(217,30,30)"
          ]
         ]
        },
        "height": 1000,
        "legend": {
         "tracegroupgap": 0
        },
        "margin": {
         "t": 60
        },
        "scene": {
         "domain": {
          "x": [
           0,
           1
          ],
          "y": [
           0,
           1
          ]
         },
         "xaxis": {
          "title": {
           "text": "Delta AST"
          }
         },
         "yaxis": {
          "title": {
           "text": "Delta PTS"
          }
         },
         "zaxis": {
          "title": {
           "text": "Delta TRB"
          }
         }
        },
        "template": {
         "data": {
          "bar": [
           {
            "error_x": {
             "color": "#2a3f5f"
            },
            "error_y": {
             "color": "#2a3f5f"
            },
            "marker": {
             "line": {
              "color": "#E5ECF6",
              "width": 0.5
             }
            },
            "type": "bar"
           }
          ],
          "barpolar": [
           {
            "marker": {
             "line": {
              "color": "#E5ECF6",
              "width": 0.5
             }
            },
            "type": "barpolar"
           }
          ],
          "carpet": [
           {
            "aaxis": {
             "endlinecolor": "#2a3f5f",
             "gridcolor": "white",
             "linecolor": "white",
             "minorgridcolor": "white",
             "startlinecolor": "#2a3f5f"
            },
            "baxis": {
             "endlinecolor": "#2a3f5f",
             "gridcolor": "white",
             "linecolor": "white",
             "minorgridcolor": "white",
             "startlinecolor": "#2a3f5f"
            },
            "type": "carpet"
           }
          ],
          "choropleth": [
           {
            "colorbar": {
             "outlinewidth": 0,
             "ticks": ""
            },
            "type": "choropleth"
           }
          ],
          "contour": [
           {
            "colorbar": {
             "outlinewidth": 0,
             "ticks": ""
            },
            "colorscale": [
             [
              0,
              "#0d0887"
             ],
             [
              0.1111111111111111,
              "#46039f"
             ],
             [
              0.2222222222222222,
              "#7201a8"
             ],
             [
              0.3333333333333333,
              "#9c179e"
             ],
             [
              0.4444444444444444,
              "#bd3786"
             ],
             [
              0.5555555555555556,
              "#d8576b"
             ],
             [
              0.6666666666666666,
              "#ed7953"
             ],
             [
              0.7777777777777778,
              "#fb9f3a"
             ],
             [
              0.8888888888888888,
              "#fdca26"
             ],
             [
              1,
              "#f0f921"
             ]
            ],
            "type": "contour"
           }
          ],
          "contourcarpet": [
           {
            "colorbar": {
             "outlinewidth": 0,
             "ticks": ""
            },
            "type": "contourcarpet"
           }
          ],
          "heatmap": [
           {
            "colorbar": {
             "outlinewidth": 0,
             "ticks": ""
            },
            "colorscale": [
             [
              0,
              "#0d0887"
             ],
             [
              0.1111111111111111,
              "#46039f"
             ],
             [
              0.2222222222222222,
              "#7201a8"
             ],
             [
              0.3333333333333333,
              "#9c179e"
             ],
             [
              0.4444444444444444,
              "#bd3786"
             ],
             [
              0.5555555555555556,
              "#d8576b"
             ],
             [
              0.6666666666666666,
              "#ed7953"
             ],
             [
              0.7777777777777778,
              "#fb9f3a"
             ],
             [
              0.8888888888888888,
              "#fdca26"
             ],
             [
              1,
              "#f0f921"
             ]
            ],
            "type": "heatmap"
           }
          ],
          "heatmapgl": [
           {
            "colorbar": {
             "outlinewidth": 0,
             "ticks": ""
            },
            "colorscale": [
             [
              0,
              "#0d0887"
             ],
             [
              0.1111111111111111,
              "#46039f"
             ],
             [
              0.2222222222222222,
              "#7201a8"
             ],
             [
              0.3333333333333333,
              "#9c179e"
             ],
             [
              0.4444444444444444,
              "#bd3786"
             ],
             [
              0.5555555555555556,
              "#d8576b"
             ],
             [
              0.6666666666666666,
              "#ed7953"
             ],
             [
              0.7777777777777778,
              "#fb9f3a"
             ],
             [
              0.8888888888888888,
              "#fdca26"
             ],
             [
              1,
              "#f0f921"
             ]
            ],
            "type": "heatmapgl"
           }
          ],
          "histogram": [
           {
            "marker": {
             "colorbar": {
              "outlinewidth": 0,
              "ticks": ""
             }
            },
            "type": "histogram"
           }
          ],
          "histogram2d": [
           {
            "colorbar": {
             "outlinewidth": 0,
             "ticks": ""
            },
            "colorscale": [
             [
              0,
              "#0d0887"
             ],
             [
              0.1111111111111111,
              "#46039f"
             ],
             [
              0.2222222222222222,
              "#7201a8"
             ],
             [
              0.3333333333333333,
              "#9c179e"
             ],
             [
              0.4444444444444444,
              "#bd3786"
             ],
             [
              0.5555555555555556,
              "#d8576b"
             ],
             [
              0.6666666666666666,
              "#ed7953"
             ],
             [
              0.7777777777777778,
              "#fb9f3a"
             ],
             [
              0.8888888888888888,
              "#fdca26"
             ],
             [
              1,
              "#f0f921"
             ]
            ],
            "type": "histogram2d"
           }
          ],
          "histogram2dcontour": [
           {
            "colorbar": {
             "outlinewidth": 0,
             "ticks": ""
            },
            "colorscale": [
             [
              0,
              "#0d0887"
             ],
             [
              0.1111111111111111,
              "#46039f"
             ],
             [
              0.2222222222222222,
              "#7201a8"
             ],
             [
              0.3333333333333333,
              "#9c179e"
             ],
             [
              0.4444444444444444,
              "#bd3786"
             ],
             [
              0.5555555555555556,
              "#d8576b"
             ],
             [
              0.6666666666666666,
              "#ed7953"
             ],
             [
              0.7777777777777778,
              "#fb9f3a"
             ],
             [
              0.8888888888888888,
              "#fdca26"
             ],
             [
              1,
              "#f0f921"
             ]
            ],
            "type": "histogram2dcontour"
           }
          ],
          "mesh3d": [
           {
            "colorbar": {
             "outlinewidth": 0,
             "ticks": ""
            },
            "type": "mesh3d"
           }
          ],
          "parcoords": [
           {
            "line": {
             "colorbar": {
              "outlinewidth": 0,
              "ticks": ""
             }
            },
            "type": "parcoords"
           }
          ],
          "pie": [
           {
            "automargin": true,
            "type": "pie"
           }
          ],
          "scatter": [
           {
            "marker": {
             "colorbar": {
              "outlinewidth": 0,
              "ticks": ""
             }
            },
            "type": "scatter"
           }
          ],
          "scatter3d": [
           {
            "line": {
             "colorbar": {
              "outlinewidth": 0,
              "ticks": ""
             }
            },
            "marker": {
             "colorbar": {
              "outlinewidth": 0,
              "ticks": ""
             }
            },
            "type": "scatter3d"
           }
          ],
          "scattercarpet": [
           {
            "marker": {
             "colorbar": {
              "outlinewidth": 0,
              "ticks": ""
             }
            },
            "type": "scattercarpet"
           }
          ],
          "scattergeo": [
           {
            "marker": {
             "colorbar": {
              "outlinewidth": 0,
              "ticks": ""
             }
            },
            "type": "scattergeo"
           }
          ],
          "scattergl": [
           {
            "marker": {
             "colorbar": {
              "outlinewidth": 0,
              "ticks": ""
             }
            },
            "type": "scattergl"
           }
          ],
          "scattermapbox": [
           {
            "marker": {
             "colorbar": {
              "outlinewidth": 0,
              "ticks": ""
             }
            },
            "type": "scattermapbox"
           }
          ],
          "scatterpolar": [
           {
            "marker": {
             "colorbar": {
              "outlinewidth": 0,
              "ticks": ""
             }
            },
            "type": "scatterpolar"
           }
          ],
          "scatterpolargl": [
           {
            "marker": {
             "colorbar": {
              "outlinewidth": 0,
              "ticks": ""
             }
            },
            "type": "scatterpolargl"
           }
          ],
          "scatterternary": [
           {
            "marker": {
             "colorbar": {
              "outlinewidth": 0,
              "ticks": ""
             }
            },
            "type": "scatterternary"
           }
          ],
          "surface": [
           {
            "colorbar": {
             "outlinewidth": 0,
             "ticks": ""
            },
            "colorscale": [
             [
              0,
              "#0d0887"
             ],
             [
              0.1111111111111111,
              "#46039f"
             ],
             [
              0.2222222222222222,
              "#7201a8"
             ],
             [
              0.3333333333333333,
              "#9c179e"
             ],
             [
              0.4444444444444444,
              "#bd3786"
             ],
             [
              0.5555555555555556,
              "#d8576b"
             ],
             [
              0.6666666666666666,
              "#ed7953"
             ],
             [
              0.7777777777777778,
              "#fb9f3a"
             ],
             [
              0.8888888888888888,
              "#fdca26"
             ],
             [
              1,
              "#f0f921"
             ]
            ],
            "type": "surface"
           }
          ],
          "table": [
           {
            "cells": {
             "fill": {
              "color": "#EBF0F8"
             },
             "line": {
              "color": "white"
             }
            },
            "header": {
             "fill": {
              "color": "#C8D4E3"
             },
             "line": {
              "color": "white"
             }
            },
            "type": "table"
           }
          ]
         },
         "layout": {
          "annotationdefaults": {
           "arrowcolor": "#2a3f5f",
           "arrowhead": 0,
           "arrowwidth": 1
          },
          "coloraxis": {
           "colorbar": {
            "outlinewidth": 0,
            "ticks": ""
           }
          },
          "colorscale": {
           "diverging": [
            [
             0,
             "#8e0152"
            ],
            [
             0.1,
             "#c51b7d"
            ],
            [
             0.2,
             "#de77ae"
            ],
            [
             0.3,
             "#f1b6da"
            ],
            [
             0.4,
             "#fde0ef"
            ],
            [
             0.5,
             "#f7f7f7"
            ],
            [
             0.6,
             "#e6f5d0"
            ],
            [
             0.7,
             "#b8e186"
            ],
            [
             0.8,
             "#7fbc41"
            ],
            [
             0.9,
             "#4d9221"
            ],
            [
             1,
             "#276419"
            ]
           ],
           "sequential": [
            [
             0,
             "#0d0887"
            ],
            [
             0.1111111111111111,
             "#46039f"
            ],
            [
             0.2222222222222222,
             "#7201a8"
            ],
            [
             0.3333333333333333,
             "#9c179e"
            ],
            [
             0.4444444444444444,
             "#bd3786"
            ],
            [
             0.5555555555555556,
             "#d8576b"
            ],
            [
             0.6666666666666666,
             "#ed7953"
            ],
            [
             0.7777777777777778,
             "#fb9f3a"
            ],
            [
             0.8888888888888888,
             "#fdca26"
            ],
            [
             1,
             "#f0f921"
            ]
           ],
           "sequentialminus": [
            [
             0,
             "#0d0887"
            ],
            [
             0.1111111111111111,
             "#46039f"
            ],
            [
             0.2222222222222222,
             "#7201a8"
            ],
            [
             0.3333333333333333,
             "#9c179e"
            ],
            [
             0.4444444444444444,
             "#bd3786"
            ],
            [
             0.5555555555555556,
             "#d8576b"
            ],
            [
             0.6666666666666666,
             "#ed7953"
            ],
            [
             0.7777777777777778,
             "#fb9f3a"
            ],
            [
             0.8888888888888888,
             "#fdca26"
            ],
            [
             1,
             "#f0f921"
            ]
           ]
          },
          "colorway": [
           "#636efa",
           "#EF553B",
           "#00cc96",
           "#ab63fa",
           "#FFA15A",
           "#19d3f3",
           "#FF6692",
           "#B6E880",
           "#FF97FF",
           "#FECB52"
          ],
          "font": {
           "color": "#2a3f5f"
          },
          "geo": {
           "bgcolor": "white",
           "lakecolor": "white",
           "landcolor": "#E5ECF6",
           "showlakes": true,
           "showland": true,
           "subunitcolor": "white"
          },
          "hoverlabel": {
           "align": "left"
          },
          "hovermode": "closest",
          "mapbox": {
           "style": "light"
          },
          "paper_bgcolor": "white",
          "plot_bgcolor": "#E5ECF6",
          "polar": {
           "angularaxis": {
            "gridcolor": "white",
            "linecolor": "white",
            "ticks": ""
           },
           "bgcolor": "#E5ECF6",
           "radialaxis": {
            "gridcolor": "white",
            "linecolor": "white",
            "ticks": ""
           }
          },
          "scene": {
           "xaxis": {
            "backgroundcolor": "#E5ECF6",
            "gridcolor": "white",
            "gridwidth": 2,
            "linecolor": "white",
            "showbackground": true,
            "ticks": "",
            "zerolinecolor": "white"
           },
           "yaxis": {
            "backgroundcolor": "#E5ECF6",
            "gridcolor": "white",
            "gridwidth": 2,
            "linecolor": "white",
            "showbackground": true,
            "ticks": "",
            "zerolinecolor": "white"
           },
           "zaxis": {
            "backgroundcolor": "#E5ECF6",
            "gridcolor": "white",
            "gridwidth": 2,
            "linecolor": "white",
            "showbackground": true,
            "ticks": "",
            "zerolinecolor": "white"
           }
          },
          "shapedefaults": {
           "line": {
            "color": "#2a3f5f"
           }
          },
          "ternary": {
           "aaxis": {
            "gridcolor": "white",
            "linecolor": "white",
            "ticks": ""
           },
           "baxis": {
            "gridcolor": "white",
            "linecolor": "white",
            "ticks": ""
           },
           "bgcolor": "#E5ECF6",
           "caxis": {
            "gridcolor": "white",
            "linecolor": "white",
            "ticks": ""
           }
          },
          "title": {
           "x": 0.05
          },
          "xaxis": {
           "automargin": true,
           "gridcolor": "white",
           "linecolor": "white",
           "ticks": "",
           "title": {
            "standoff": 15
           },
           "zerolinecolor": "white",
           "zerolinewidth": 2
          },
          "yaxis": {
           "automargin": true,
           "gridcolor": "white",
           "linecolor": "white",
           "ticks": "",
           "title": {
            "standoff": 15
           },
           "zerolinecolor": "white",
           "zerolinewidth": 2
          }
         }
        },
        "width": 1000
       }
      },
      "text/html": [
       "<div>\n",
       "        \n",
       "        \n",
       "            <div id=\"4bf2d09f-14ef-4460-8e0a-56efb1872e03\" class=\"plotly-graph-div\" style=\"height:1000px; width:1000px;\"></div>\n",
       "            <script type=\"text/javascript\">\n",
       "                require([\"plotly\"], function(Plotly) {\n",
       "                    window.PLOTLYENV=window.PLOTLYENV || {};\n",
       "                    \n",
       "                if (document.getElementById(\"4bf2d09f-14ef-4460-8e0a-56efb1872e03\")) {\n",
       "                    Plotly.newPlot(\n",
       "                        '4bf2d09f-14ef-4460-8e0a-56efb1872e03',\n",
       "                        [{\"hoverlabel\": {\"namelength\": 0}, \"hovertemplate\": \"Delta AST=%{x}<br>Delta PTS=%{y}<br>Delta TRB=%{z}<br>color=%{marker.color}\", \"legendgroup\": \"\", \"marker\": {\"color\": [2, 2, 2, 0, 3, 2, 2, 3, 2, 0, 2, 4, 4, 1, 4, 0, 0, 0, 4, 2, 0, 2, 0, 3, 0, 1, 2, 3, 0, 4, 0, 4, 2, 4, 0, 2, 2, 3, 2, 4, 4, 2, 3, 4, 3, 2, 2, 0, 2, 2, 4, 0, 4, 4, 4, 2, 0, 1, 4, 2, 0, 2, 4, 0, 2, 3, 0, 4, 3, 0, 2, 0, 2, 4, 0, 2, 4, 2, 2, 4, 2, 0, 4, 0, 4, 2, 3, 0, 2, 0, 4, 3, 4, 4, 4, 0, 2, 2, 4, 2, 0, 2, 2, 4, 4, 2, 4, 3, 3, 3, 2, 2, 2, 2, 0, 2, 4, 0, 0, 2, 0, 2, 4, 2, 3, 4, 4, 2, 2, 0, 4, 2, 0, 0, 0, 2, 2, 2, 4, 0, 4, 2, 2, 1, 3, 4, 3, 2, 3, 4, 2, 4, 0, 3, 4, 3, 2, 2, 2, 0, 3, 0, 4, 3, 4, 0, 2, 2, 3, 3, 2, 1, 0, 4, 4, 4, 2, 4, 2, 3, 2, 3, 4, 3, 2, 3, 2, 2, 0, 4, 0, 4, 4, 2, 4, 3, 4, 2, 3, 2, 0, 3, 4, 2, 3, 0], \"coloraxis\": \"coloraxis\", \"size\": 5, \"symbol\": \"circle\"}, \"mode\": \"markers\", \"name\": \"\", \"scene\": \"scene\", \"showlegend\": false, \"type\": \"scatter3d\", \"x\": [1.0999999999999996, 3.1999999999999993, 0.29999999999999893, 2.5, 13.5, 0.20000000000000018, 0.3000000000000007, 6.600000000000001, -0.2999999999999998, 3.3999999999999986, 2.5, -5.399999999999999, -3.9000000000000004, -11.7, -6.600000000000001, 3.1000000000000014, 0.09999999999999964, -1.200000000000001, -2.1000000000000014, 4.599999999999998, 2.4000000000000004, 1.0, 2.4000000000000004, 9.700000000000003, -0.10000000000000142, -14.899999999999999, -0.7999999999999998, 6.199999999999999, -2.1999999999999993, -1.9000000000000004, 1.3999999999999995, -3.3, -0.3999999999999986, -1.3999999999999986, 2.0999999999999996, 0.0, 3.5, 11.2, 3.9000000000000004, -1.4000000000000021, -2.6000000000000005, 0.8999999999999995, 10.8, -6.100000000000001, 8.2, 2.1, -1.0999999999999996, -3.5999999999999996, 2.6000000000000014, 2.8000000000000007, -9.399999999999999, 0.9000000000000004, -7.1000000000000005, -6.4, -3.299999999999997, 0.6999999999999993, 0.3999999999999986, -13.7, -5.599999999999998, 0.20000000000000018, 1.4, 3.5, -1.5, 2.8, 2.8000000000000007, 8.600000000000001, 4.299999999999999, -2.8, 4.899999999999999, 3.1999999999999993, 2.0999999999999996, 2.6999999999999993, 4.900000000000002, -2.299999999999999, -0.8999999999999995, -1.2000000000000002, -2.1999999999999993, -0.20000000000000018, 1.1999999999999993, -5.600000000000001, 1.0999999999999996, 2.4000000000000004, -2.0, 1.700000000000001, -8.1, -0.5999999999999996, 18.4, -0.6000000000000005, 1.5, -0.9000000000000004, -6.800000000000001, 6.900000000000002, -2.5, -4.4, -2.400000000000002, 3.3, 0.6000000000000014, 3.200000000000003, -4.799999999999999, 4.300000000000001, 0.9000000000000004, 0.10000000000000053, 4.0, -8.099999999999998, -5.0, 4.3999999999999995, -5.5, 7.399999999999999, 5.799999999999999, 7.100000000000001, 4.599999999999998, -0.3999999999999986, 1.5, 0.39999999999999947, 3.999999999999999, 2.4000000000000004, -3.5, 4.0, -3.8000000000000007, -0.5, -1.3000000000000007, 0.20000000000000018, -2.8000000000000007, -0.29999999999999716, 4.9, -5.8999999999999995, -3.5, 3.8999999999999986, 1.200000000000001, 0.7999999999999998, -2.0, 0.1999999999999993, -3.2, 1.9000000000000004, 1.2999999999999998, 2.400000000000002, 2.9000000000000004, 1.6000000000000014, -3.3000000000000007, 1.8000000000000007, -2.599999999999998, -0.5999999999999996, -0.5999999999999996, -19.500000000000004, 6.0, -3.9000000000000004, 6.600000000000001, -0.39999999999999947, 6.199999999999999, -2.0, 4.0, -7.299999999999999, 3.4000000000000004, 5.099999999999998, -1.6000000000000014, 5.1, 4.6, 4.3, 2.1999999999999993, -0.20000000000000107, 5.1, 0.0, -2.1999999999999993, 4.699999999999999, -6.700000000000003, 0.5999999999999996, 0.1999999999999993, 3.700000000000003, 5.599999999999994, 5.5, -0.1999999999999993, -15.800000000000004, 1.0999999999999996, -3.1999999999999957, -4.599999999999998, -3.0, 0.20000000000000018, -1.3000000000000007, 1.6999999999999993, 7.0, -0.6999999999999993, 6.8999999999999995, -2.0, 6.399999999999999, 0.0, 11.200000000000001, 1.0, 1.0999999999999979, 2.0, -3.400000000000002, 2.0, -5.299999999999997, -2.8000000000000007, 0.5, -3.299999999999997, 11.7, -1.3000000000000007, 2.700000000000001, 6.699999999999999, -0.9000000000000004, 1.5, 8.899999999999999, -1.8000000000000007, 3.5, 4.699999999999999, 3.9000000000000004], \"y\": [0.0, 2.0, -1.8000000000000007, 2.700000000000001, 8.8, 0.09999999999999964, 0.09999999999999964, 0.8000000000000007, 1.0999999999999996, 4.7, 1.5, -0.29999999999999893, -4.199999999999999, -2.299999999999999, -1.3000000000000007, 3.0, 8.100000000000001, 3.2, 2.0999999999999996, -4.6, 2.8, 2.299999999999999, 3.6999999999999993, 1.7000000000000028, 2.5999999999999996, -13.500000000000002, -1.5, 2.4000000000000004, 9.0, -2.0, 2.700000000000001, -2.4000000000000004, 2.0, -0.9000000000000004, 9.0, 2.1999999999999993, -1.200000000000001, 4.0, 1.5, -2.5999999999999996, -3.5999999999999996, 1.5, -2.4000000000000004, 0.9000000000000021, -2.200000000000003, 0.5, 0.8000000000000007, 5.1, -1.8000000000000007, 0.5, 4.200000000000001, 6.6, 2.3000000000000007, 1.7000000000000002, -2.0999999999999996, -0.3999999999999986, 4.600000000000001, -9.2, -1.1999999999999993, -0.5, 3.8000000000000003, -4.299999999999999, 1.5999999999999996, 4.9, -2.700000000000001, 5.700000000000001, 4.5, 2.2, 2.1999999999999993, 6.100000000000001, -1.3999999999999986, 2.4000000000000004, -1.6000000000000014, -1.8000000000000007, 5.199999999999999, 1.700000000000001, -3.5999999999999996, -2.9000000000000004, 1.5, 5.700000000000003, 1.2000000000000002, 5.600000000000001, -4.6, 2.8999999999999986, -0.09999999999999964, -0.10000000000000053, 9.5, 2.5, -0.7999999999999989, 7.199999999999999, 1.9, 2.1999999999999993, -5.0, 1.6999999999999993, 0.6999999999999993, 2.4000000000000004, -0.2999999999999998, 0.5999999999999996, 2.1999999999999993, -0.5999999999999979, 4.199999999999999, 1.2999999999999998, -1.5999999999999996, 0.8000000000000007, -0.10000000000000142, 0.5, -3.000000000000001, 1.6000000000000014, 3.7, 1.8000000000000007, -1.4000000000000004, 2.0999999999999996, -2.499999999999999, 1.3999999999999995, 4.199999999999999, 2.599999999999998, 2.4000000000000004, 7.0, 6.6, 2.5999999999999996, 10.400000000000002, -1.6000000000000005, 1.5999999999999996, -1.0999999999999979, 2.3, -0.5, -2.3000000000000007, -2.0, -1.4000000000000004, 3.5, -0.3999999999999986, 0.10000000000000053, 7.2, 2.5, 3.2, -1.8000000000000007, 0.39999999999999947, -0.09999999999999964, -2.0, 3.3000000000000007, 2.2, -0.5999999999999996, 0.3000000000000007, 7.1000000000000005, 1.5, 3.0, 5.3999999999999995, 0.5, 1.299999999999999, 0.20000000000000018, -4.300000000000001, -1.5, 9.1, 1.7999999999999998, -3.0000000000000018, 0.7000000000000002, -1.4000000000000004, -0.19999999999999996, 2.0999999999999996, 3.0999999999999996, 4.1, 5.299999999999997, 1.0, 3.700000000000001, 0.8999999999999986, 6.4, -2.3000000000000007, -0.40000000000000036, 5.600000000000001, 2.5, 1.7000000000000002, -3.8999999999999986, 9.599999999999998, 1.0999999999999979, -1.299999999999999, -2.0, -0.9000000000000004, -1.9999999999999991, 1.799999999999999, -2.0999999999999996, 1.5, 5.1000000000000005, -3.9000000000000004, 3.099999999999998, 1.2000000000000002, -1.3999999999999995, 0.6000000000000014, 2.4000000000000004, 4.300000000000001, -2.3000000000000007, 3.5, 1.3000000000000007, -0.5999999999999996, -1.6000000000000014, -2.5, 6.7, -1.6999999999999993, 0.40000000000000213, -2.6000000000000014, 0.5999999999999996, 4.8, 4.8, -0.10000000000000009, 0.7999999999999989, 3.0, 4.1], \"z\": [0.5, 1.7999999999999998, 0.6999999999999993, 3.0, 2.1, -0.09999999999999964, 0.39999999999999947, 2.5, 0.3999999999999999, 1.7000000000000002, 0.3999999999999999, -1.6000000000000005, -0.40000000000000036, 0.40000000000000036, 0.10000000000000009, 0.5999999999999996, 1.4, 1.6000000000000005, 1.5, 0.9000000000000004, 1.7000000000000002, 0.6000000000000001, 0.6999999999999997, -0.40000000000000036, 1.2000000000000002, -1.4, -0.7000000000000002, 0.6000000000000001, 5.199999999999999, -2.3000000000000003, 1.8999999999999986, -1.3999999999999995, 0.0, 1.4000000000000004, 2.500000000000001, 0.9000000000000004, 0.5, 1.1, 2.2, -0.3999999999999999, -0.8999999999999999, 0.20000000000000018, 0.10000000000000009, 0.20000000000000018, 0.9000000000000004, 1.1999999999999993, -0.40000000000000036, 3.3, 2.1, -0.5, -0.8000000000000003, 1.7000000000000002, -0.40000000000000036, 0.6000000000000001, -0.20000000000000018, -0.39999999999999947, 2.5999999999999996, -2.1999999999999997, -0.2999999999999998, 0.20000000000000018, 1.0999999999999999, -1.5, 1.1999999999999997, 1.5, 0.0, 1.0, 1.2999999999999998, 0.5, 1.7000000000000002, 2.499999999999999, -0.5999999999999996, 2.200000000000001, -0.5, -0.2999999999999998, 1.3000000000000003, 0.3999999999999999, -0.2999999999999998, -0.7000000000000002, 0.7999999999999998, 1.1999999999999993, 1.7999999999999998, 2.5, 0.19999999999999973, 0.5, 0.2999999999999998, -0.5, 3.5, 1.5999999999999996, 0.39999999999999947, 1.2000000000000002, 0.0, 0.5, -1.5, 0.2999999999999998, -0.7000000000000002, 1.7999999999999998, -0.09999999999999964, -0.20000000000000018, -0.20000000000000018, 1.2000000000000002, 1.7999999999999998, 0.5, -0.1999999999999993, -0.19999999999999973, -0.09999999999999964, 0.6000000000000001, -1.7000000000000002, 0.10000000000000142, 2.2, 0.3999999999999999, 0.19999999999999973, 0.5, -0.2999999999999998, 1.2999999999999998, 1.4000000000000001, -0.7999999999999998, 1.4000000000000004, 0.8000000000000003, 2.6, -2.0, 2.5999999999999996, -1.6, 0.09999999999999964, 0.09999999999999964, 1.9000000000000004, 0.9000000000000004, -0.6000000000000001, -0.7999999999999998, -1.0, 1.5, 0.0, -0.7000000000000002, 4.9, 1.8, 2.9, 0.7999999999999998, -0.10000000000000009, 0.30000000000000027, 0.7999999999999998, 0.39999999999999947, 0.8999999999999999, -0.5, 0.6999999999999993, 1.7, 0.5, 0.5, 3.7, -1.3999999999999995, 1.4000000000000004, 0.10000000000000009, 0.39999999999999947, -1.0, 2.7, -0.19999999999999996, -0.8000000000000007, 1.0, 0.5, -0.29999999999999993, -0.2999999999999998, 0.5999999999999999, 2.9000000000000004, 0.6999999999999993, -0.10000000000000009, 0.10000000000000009, 1.2999999999999998, 0.5, -0.8000000000000003, -0.9999999999999996, 0.0, 1.6000000000000005, 0.2999999999999998, 0.5, 2.4000000000000004, 0.7000000000000011, -0.6000000000000001, -0.10000000000000009, 0.20000000000000018, -2.0, 1.0, -0.5, 0.0, 3.5999999999999996, -0.3999999999999999, 0.09999999999999964, 0.20000000000000018, 1.4, 0.7999999999999998, 0.20000000000000018, 2.8000000000000007, 0.0, 1.3000000000000003, -0.10000000000000009, -1.1, -1.0999999999999996, 1.0, 2.2, -0.09999999999999964, 0.39999999999999947, 0.5, 0.7000000000000002, 4.1, 0.0, -0.30000000000000004, 0.20000000000000018, 1.3999999999999995, 3.5000000000000004]}],\n",
       "                        {\"coloraxis\": {\"colorbar\": {\"title\": {\"text\": \"color\"}}, \"colorscale\": [[0.0, \"rgb(12,51,131)\"], [0.25, \"rgb(10,136,186)\"], [0.5, \"rgb(242,211,56)\"], [0.75, \"rgb(242,143,56)\"], [1.0, \"rgb(217,30,30)\"]]}, \"height\": 1000, \"legend\": {\"tracegroupgap\": 0}, \"margin\": {\"t\": 60}, \"scene\": {\"domain\": {\"x\": [0.0, 1.0], \"y\": [0.0, 1.0]}, \"xaxis\": {\"title\": {\"text\": \"Delta AST\"}}, \"yaxis\": {\"title\": {\"text\": \"Delta PTS\"}}, \"zaxis\": {\"title\": {\"text\": \"Delta TRB\"}}}, \"template\": {\"data\": {\"bar\": [{\"error_x\": {\"color\": \"#2a3f5f\"}, \"error_y\": {\"color\": \"#2a3f5f\"}, \"marker\": {\"line\": {\"color\": \"#E5ECF6\", \"width\": 0.5}}, \"type\": \"bar\"}], \"barpolar\": [{\"marker\": {\"line\": {\"color\": \"#E5ECF6\", \"width\": 0.5}}, \"type\": \"barpolar\"}], \"carpet\": [{\"aaxis\": {\"endlinecolor\": \"#2a3f5f\", \"gridcolor\": \"white\", \"linecolor\": \"white\", \"minorgridcolor\": \"white\", \"startlinecolor\": \"#2a3f5f\"}, \"baxis\": {\"endlinecolor\": \"#2a3f5f\", \"gridcolor\": \"white\", \"linecolor\": \"white\", \"minorgridcolor\": \"white\", \"startlinecolor\": \"#2a3f5f\"}, \"type\": \"carpet\"}], \"choropleth\": [{\"colorbar\": {\"outlinewidth\": 0, \"ticks\": \"\"}, \"type\": \"choropleth\"}], \"contour\": [{\"colorbar\": {\"outlinewidth\": 0, \"ticks\": \"\"}, \"colorscale\": [[0.0, \"#0d0887\"], [0.1111111111111111, \"#46039f\"], [0.2222222222222222, \"#7201a8\"], [0.3333333333333333, \"#9c179e\"], [0.4444444444444444, \"#bd3786\"], [0.5555555555555556, \"#d8576b\"], [0.6666666666666666, \"#ed7953\"], [0.7777777777777778, \"#fb9f3a\"], [0.8888888888888888, \"#fdca26\"], [1.0, \"#f0f921\"]], \"type\": \"contour\"}], \"contourcarpet\": [{\"colorbar\": {\"outlinewidth\": 0, \"ticks\": \"\"}, \"type\": \"contourcarpet\"}], \"heatmap\": [{\"colorbar\": {\"outlinewidth\": 0, \"ticks\": \"\"}, \"colorscale\": [[0.0, \"#0d0887\"], [0.1111111111111111, \"#46039f\"], [0.2222222222222222, \"#7201a8\"], [0.3333333333333333, \"#9c179e\"], [0.4444444444444444, \"#bd3786\"], [0.5555555555555556, \"#d8576b\"], [0.6666666666666666, \"#ed7953\"], [0.7777777777777778, \"#fb9f3a\"], [0.8888888888888888, \"#fdca26\"], [1.0, \"#f0f921\"]], \"type\": \"heatmap\"}], \"heatmapgl\": [{\"colorbar\": {\"outlinewidth\": 0, \"ticks\": \"\"}, \"colorscale\": [[0.0, \"#0d0887\"], [0.1111111111111111, \"#46039f\"], [0.2222222222222222, \"#7201a8\"], [0.3333333333333333, \"#9c179e\"], [0.4444444444444444, \"#bd3786\"], [0.5555555555555556, \"#d8576b\"], [0.6666666666666666, \"#ed7953\"], [0.7777777777777778, \"#fb9f3a\"], [0.8888888888888888, \"#fdca26\"], [1.0, \"#f0f921\"]], \"type\": \"heatmapgl\"}], \"histogram\": [{\"marker\": {\"colorbar\": {\"outlinewidth\": 0, \"ticks\": \"\"}}, \"type\": \"histogram\"}], \"histogram2d\": [{\"colorbar\": {\"outlinewidth\": 0, \"ticks\": \"\"}, \"colorscale\": [[0.0, \"#0d0887\"], [0.1111111111111111, \"#46039f\"], [0.2222222222222222, \"#7201a8\"], [0.3333333333333333, \"#9c179e\"], [0.4444444444444444, \"#bd3786\"], [0.5555555555555556, \"#d8576b\"], [0.6666666666666666, \"#ed7953\"], [0.7777777777777778, \"#fb9f3a\"], [0.8888888888888888, \"#fdca26\"], [1.0, \"#f0f921\"]], \"type\": \"histogram2d\"}], \"histogram2dcontour\": [{\"colorbar\": {\"outlinewidth\": 0, \"ticks\": \"\"}, \"colorscale\": [[0.0, \"#0d0887\"], [0.1111111111111111, \"#46039f\"], [0.2222222222222222, \"#7201a8\"], [0.3333333333333333, \"#9c179e\"], [0.4444444444444444, \"#bd3786\"], [0.5555555555555556, \"#d8576b\"], [0.6666666666666666, \"#ed7953\"], [0.7777777777777778, \"#fb9f3a\"], [0.8888888888888888, \"#fdca26\"], [1.0, \"#f0f921\"]], \"type\": \"histogram2dcontour\"}], \"mesh3d\": [{\"colorbar\": {\"outlinewidth\": 0, \"ticks\": \"\"}, \"type\": \"mesh3d\"}], \"parcoords\": [{\"line\": {\"colorbar\": {\"outlinewidth\": 0, \"ticks\": \"\"}}, \"type\": \"parcoords\"}], \"pie\": [{\"automargin\": true, \"type\": \"pie\"}], \"scatter\": [{\"marker\": {\"colorbar\": {\"outlinewidth\": 0, \"ticks\": \"\"}}, \"type\": \"scatter\"}], \"scatter3d\": [{\"line\": {\"colorbar\": {\"outlinewidth\": 0, \"ticks\": \"\"}}, \"marker\": {\"colorbar\": {\"outlinewidth\": 0, \"ticks\": \"\"}}, \"type\": \"scatter3d\"}], \"scattercarpet\": [{\"marker\": {\"colorbar\": {\"outlinewidth\": 0, \"ticks\": \"\"}}, \"type\": \"scattercarpet\"}], \"scattergeo\": [{\"marker\": {\"colorbar\": {\"outlinewidth\": 0, \"ticks\": \"\"}}, \"type\": \"scattergeo\"}], \"scattergl\": [{\"marker\": {\"colorbar\": {\"outlinewidth\": 0, \"ticks\": \"\"}}, \"type\": \"scattergl\"}], \"scattermapbox\": [{\"marker\": {\"colorbar\": {\"outlinewidth\": 0, \"ticks\": \"\"}}, \"type\": \"scattermapbox\"}], \"scatterpolar\": [{\"marker\": {\"colorbar\": {\"outlinewidth\": 0, \"ticks\": \"\"}}, \"type\": \"scatterpolar\"}], \"scatterpolargl\": [{\"marker\": {\"colorbar\": {\"outlinewidth\": 0, \"ticks\": \"\"}}, \"type\": \"scatterpolargl\"}], \"scatterternary\": [{\"marker\": {\"colorbar\": {\"outlinewidth\": 0, \"ticks\": \"\"}}, \"type\": \"scatterternary\"}], \"surface\": [{\"colorbar\": {\"outlinewidth\": 0, \"ticks\": \"\"}, \"colorscale\": [[0.0, \"#0d0887\"], [0.1111111111111111, \"#46039f\"], [0.2222222222222222, \"#7201a8\"], [0.3333333333333333, \"#9c179e\"], [0.4444444444444444, \"#bd3786\"], [0.5555555555555556, \"#d8576b\"], [0.6666666666666666, \"#ed7953\"], [0.7777777777777778, \"#fb9f3a\"], [0.8888888888888888, \"#fdca26\"], [1.0, \"#f0f921\"]], \"type\": \"surface\"}], \"table\": [{\"cells\": {\"fill\": {\"color\": \"#EBF0F8\"}, \"line\": {\"color\": \"white\"}}, \"header\": {\"fill\": {\"color\": \"#C8D4E3\"}, \"line\": {\"color\": \"white\"}}, \"type\": \"table\"}]}, \"layout\": {\"annotationdefaults\": {\"arrowcolor\": \"#2a3f5f\", \"arrowhead\": 0, \"arrowwidth\": 1}, \"coloraxis\": {\"colorbar\": {\"outlinewidth\": 0, \"ticks\": \"\"}}, \"colorscale\": {\"diverging\": [[0, \"#8e0152\"], [0.1, \"#c51b7d\"], [0.2, \"#de77ae\"], [0.3, \"#f1b6da\"], [0.4, \"#fde0ef\"], [0.5, \"#f7f7f7\"], [0.6, \"#e6f5d0\"], [0.7, \"#b8e186\"], [0.8, \"#7fbc41\"], [0.9, \"#4d9221\"], [1, \"#276419\"]], \"sequential\": [[0.0, \"#0d0887\"], [0.1111111111111111, \"#46039f\"], [0.2222222222222222, \"#7201a8\"], [0.3333333333333333, \"#9c179e\"], [0.4444444444444444, \"#bd3786\"], [0.5555555555555556, \"#d8576b\"], [0.6666666666666666, \"#ed7953\"], [0.7777777777777778, \"#fb9f3a\"], [0.8888888888888888, \"#fdca26\"], [1.0, \"#f0f921\"]], \"sequentialminus\": [[0.0, \"#0d0887\"], [0.1111111111111111, \"#46039f\"], [0.2222222222222222, \"#7201a8\"], [0.3333333333333333, \"#9c179e\"], [0.4444444444444444, \"#bd3786\"], [0.5555555555555556, \"#d8576b\"], [0.6666666666666666, \"#ed7953\"], [0.7777777777777778, \"#fb9f3a\"], [0.8888888888888888, \"#fdca26\"], [1.0, \"#f0f921\"]]}, \"colorway\": [\"#636efa\", \"#EF553B\", \"#00cc96\", \"#ab63fa\", \"#FFA15A\", \"#19d3f3\", \"#FF6692\", \"#B6E880\", \"#FF97FF\", \"#FECB52\"], \"font\": {\"color\": \"#2a3f5f\"}, \"geo\": {\"bgcolor\": \"white\", \"lakecolor\": \"white\", \"landcolor\": \"#E5ECF6\", \"showlakes\": true, \"showland\": true, \"subunitcolor\": \"white\"}, \"hoverlabel\": {\"align\": \"left\"}, \"hovermode\": \"closest\", \"mapbox\": {\"style\": \"light\"}, \"paper_bgcolor\": \"white\", \"plot_bgcolor\": \"#E5ECF6\", \"polar\": {\"angularaxis\": {\"gridcolor\": \"white\", \"linecolor\": \"white\", \"ticks\": \"\"}, \"bgcolor\": \"#E5ECF6\", \"radialaxis\": {\"gridcolor\": \"white\", \"linecolor\": \"white\", \"ticks\": \"\"}}, \"scene\": {\"xaxis\": {\"backgroundcolor\": \"#E5ECF6\", \"gridcolor\": \"white\", \"gridwidth\": 2, \"linecolor\": \"white\", \"showbackground\": true, \"ticks\": \"\", \"zerolinecolor\": \"white\"}, \"yaxis\": {\"backgroundcolor\": \"#E5ECF6\", \"gridcolor\": \"white\", \"gridwidth\": 2, \"linecolor\": \"white\", \"showbackground\": true, \"ticks\": \"\", \"zerolinecolor\": \"white\"}, \"zaxis\": {\"backgroundcolor\": \"#E5ECF6\", \"gridcolor\": \"white\", \"gridwidth\": 2, \"linecolor\": \"white\", \"showbackground\": true, \"ticks\": \"\", \"zerolinecolor\": \"white\"}}, \"shapedefaults\": {\"line\": {\"color\": \"#2a3f5f\"}}, \"ternary\": {\"aaxis\": {\"gridcolor\": \"white\", \"linecolor\": \"white\", \"ticks\": \"\"}, \"baxis\": {\"gridcolor\": \"white\", \"linecolor\": \"white\", \"ticks\": \"\"}, \"bgcolor\": \"#E5ECF6\", \"caxis\": {\"gridcolor\": \"white\", \"linecolor\": \"white\", \"ticks\": \"\"}}, \"title\": {\"x\": 0.05}, \"xaxis\": {\"automargin\": true, \"gridcolor\": \"white\", \"linecolor\": \"white\", \"ticks\": \"\", \"title\": {\"standoff\": 15}, \"zerolinecolor\": \"white\", \"zerolinewidth\": 2}, \"yaxis\": {\"automargin\": true, \"gridcolor\": \"white\", \"linecolor\": \"white\", \"ticks\": \"\", \"title\": {\"standoff\": 15}, \"zerolinecolor\": \"white\", \"zerolinewidth\": 2}}}, \"width\": 1000},\n",
       "                        {\"responsive\": true}\n",
       "                    ).then(function(){\n",
       "                            \n",
       "var gd = document.getElementById('4bf2d09f-14ef-4460-8e0a-56efb1872e03');\n",
       "var x = new MutationObserver(function (mutations, observer) {{\n",
       "        var display = window.getComputedStyle(gd).display;\n",
       "        if (!display || display === 'none') {{\n",
       "            console.log([gd, 'removed!']);\n",
       "            Plotly.purge(gd);\n",
       "            observer.disconnect();\n",
       "        }}\n",
       "}});\n",
       "\n",
       "// Listen for the removal of the full notebook cells\n",
       "var notebookContainer = gd.closest('#notebook-container');\n",
       "if (notebookContainer) {{\n",
       "    x.observe(notebookContainer, {childList: true});\n",
       "}}\n",
       "\n",
       "// Listen for the clearing of the current output cell\n",
       "var outputEl = gd.closest('.output');\n",
       "if (outputEl) {{\n",
       "    x.observe(outputEl, {childList: true});\n",
       "}}\n",
       "\n",
       "                        })\n",
       "                };\n",
       "                });\n",
       "            </script>\n",
       "        </div>"
      ]
     },
     "metadata": {},
     "output_type": "display_data"
    }
   ],
   "source": [
    "\n",
    "fig = px.scatter_3d(subset_2, x=subset_2[\"Delta AST\"], y=subset_2[\"Delta PTS\"], z=subset_2[\"Delta TRB\"],\n",
    "              color=kmeans.labels_, width=1000, height=1000, color_continuous_scale='Portland')\n",
    "fig.update_traces(marker=dict(size=5))\n",
    "\n",
    "fig.show()"
   ]
  },
  {
   "cell_type": "code",
   "execution_count": null,
   "metadata": {},
   "outputs": [],
   "source": []
  }
 ],
 "metadata": {
  "kernelspec": {
   "display_name": "Python 3",
   "language": "python",
   "name": "python3"
  },
  "language_info": {
   "codemirror_mode": {
    "name": "ipython",
    "version": 3
   },
   "file_extension": ".py",
   "mimetype": "text/x-python",
   "name": "python",
   "nbconvert_exporter": "python",
   "pygments_lexer": "ipython3",
   "version": "3.7.3"
  }
 },
 "nbformat": 4,
 "nbformat_minor": 2
}
